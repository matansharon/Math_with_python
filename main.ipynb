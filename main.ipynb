{
 "cells": [
  {
   "cell_type": "code",
   "execution_count": 2,
   "metadata": {},
   "outputs": [],
   "source": [
    "import numpy as np\n",
    "import matplotlib.pyplot as plt\n",
    "import pandas as pd\n",
    "import sympy as sp\n",
    "from random import randint"
   ]
  },
  {
   "attachments": {},
   "cell_type": "markdown",
   "metadata": {},
   "source": [
    "coding challenge at lecture 12:\n",
    "1.create 2 4x6 matrics of random numbers\n",
    "2. use a for loop to compute thr dot products between corrsponding columns"
   ]
  },
  {
   "cell_type": "code",
   "execution_count": null,
   "metadata": {},
   "outputs": [],
   "source": [
    "n=4\n",
    "m=6\n",
    "#create a 4 on 6 matrix\n",
    "a=np.random.rand(n,m)   \n",
    "b=np.random.rand(n,m)\n",
    "print(a)\n",
    "print(a[:,0])\n",
    "#create an empty matrix\n",
    "c=np.zeros(6)\n",
    "for i in range(m):\n",
    "    c[i]=np.dot(a[:,i],b[:,i])\n",
    "c\n",
    "    "
   ]
  },
  {
   "cell_type": "markdown",
   "metadata": {},
   "source": [
    "1. generate 2 100-elemnts row vector. compute a with b and then b with a.\n",
    "2. generate 2 2-elemnts integer row vector. compute a with b and then b with"
   ]
  },
  {
   "cell_type": "code",
   "execution_count": null,
   "metadata": {},
   "outputs": [],
   "source": [
    "#generate a 100 element vector\n",
    "x=np.random.randn(100)\n",
    "y=np.random.randn(100)\n",
    "#write the for loop in one line\n",
    "# x=np.array([x[i]*100 for i in range(100)])\n",
    "# b=np.array([b[i]*100 for i in range(100)])\n",
    "plt.plot(x,'o')\n",
    "plt.plot(y,'x')\n",
    "plt.plot(np.dot(x,y),'v')"
   ]
  },
  {
   "cell_type": "code",
   "execution_count": null,
   "metadata": {},
   "outputs": [],
   "source": [
    "v1=np.array([2,4,-3])\n",
    "v2=np.array([0,-3,-3])\n",
    "ang=np.arccos(np.dot(v1,v2)/(np.linalg.norm(v1)*np.linalg.norm(v2)))\n",
    "\n",
    "#draw them\n",
    "fig=plt.figure()\n",
    "ax=fig.gca(projection='3d')\n",
    "ax.plot([0,v1[0]],[0,v1[1]],[0,v1[2]],'r')\n",
    "ax.plot([0,v2[0]],[0,v2[1]],[0,v2[2]],'b')\n",
    "ax.plot([0,v1[0]+v2[0]],[0,v1[1]+v2[1]],[0,v1[2]+v2[2]],'g')\n",
    "ax.set_xlabel('x')\n",
    "ax.set_ylabel('y')\n",
    "ax.set_zlabel('z')\n",
    "ax.set_xlim(-6,6)\n",
    "ax.set_ylim(-6,6)\n",
    "ax.set_zlim(-6,6)\n",
    "plt.show()\n"
   ]
  },
  {
   "cell_type": "markdown",
   "metadata": {},
   "source": [
    "code chalenge lecture 16"
   ]
  },
  {
   "cell_type": "code",
   "execution_count": null,
   "metadata": {},
   "outputs": [],
   "source": [
    "#proof the cauchy schwarz inequality\n",
    "a=np.random.rand(100)\n",
    "b=np.random.rand(100)\n",
    "for i in range(100):\n",
    "    a[i]*=100\n",
    "np.abs(np.dot(a,b))\n",
    "\n"
   ]
  },
  {
   "cell_type": "code",
   "execution_count": null,
   "metadata": {},
   "outputs": [],
   "source": [
    "#obtuse angle\n",
    "a=[1,-2]\n",
    "b=[2,3]\n",
    "c=[0,2]\n",
    "#calculate the angle between a and b and a and c and b and c and show the result in degrees\n",
    "ang1=np.arccos(np.dot(a,b)/(np.linalg.norm(a)*np.linalg.norm(b)))*180/np.pi\n",
    "ang2=np.arccos(np.dot(a,c)/(np.linalg.norm(a)*np.linalg.norm(c)))*180/np.pi\n",
    "ang3=np.arccos(np.dot(b,c)/(np.linalg.norm(b)*np.linalg.norm(c)))*180/np.pi\n",
    "print(ang1,ang2,ang3)"
   ]
  },
  {
   "cell_type": "markdown",
   "metadata": {},
   "source": [
    "1. create 2 random (R4) vectors\n",
    "2. comput the length of each vector and the magnitude of their dot product\n",
    "3. compute the unit vector of each vector \n",
    "4. compute the magnitude of each vector dot product"
   ]
  },
  {
   "cell_type": "code",
   "execution_count": null,
   "metadata": {},
   "outputs": [],
   "source": [
    "n=4\n",
    "v1=50*(np.random.rand(n))\n",
    "v2=50*(np.random.rand(n))\n",
    "print(v1,v2)\n",
    "#cunoute the length of v1 and v2\n",
    "v1L=np.dot(v1,v1)**0.5\n",
    "v2L=np.dot(v2,v2)**0.5\n",
    "v1v2m=np.dot(v1L,v2L)\n",
    "\n",
    "print(v1L,v2L,v1v2m)\n",
    "v1mu=1/v1L\n",
    "v2mu=1/v2L\n",
    "print(v1mu,v2mu)\n",
    "print(v1mu*v1L,v2mu*v2L)"
   ]
  },
  {
   "cell_type": "code",
   "execution_count": null,
   "metadata": {},
   "outputs": [],
   "source": [
    "arrays=[]\n",
    "for i in range(5):\n",
    "    a=randint(1,10)\n",
    "    b=randint(1,10)\n",
    "    if a>b:\n",
    "        temp=a\n",
    "        a=b\n",
    "        b=temp\n",
    "    m=np.random.randint(10,20,size=(a,b))\n",
    "    arrays.append(m)\n"
   ]
  },
  {
   "cell_type": "code",
   "execution_count": null,
   "metadata": {},
   "outputs": [],
   "source": [
    "r={}\n",
    "#find all the matrices with the same size\n",
    "for i in range(len(arrays)):\n",
    "    for j in range(i+1,len(arrays)):\n",
    "        if arrays[i].shape==arrays[j].shape:\n",
    "            r[i,j]=arrays[i]\n",
    "print(arrays[0],arrays[0]*2)\n",
    "    \n"
   ]
  },
  {
   "cell_type": "markdown",
   "metadata": {},
   "source": [
    "code challenge lecture 35\n",
    "1.test for some MxN matricies whether s(A+B)== sA +sB "
   ]
  },
  {
   "cell_type": "code",
   "execution_count": null,
   "metadata": {},
   "outputs": [],
   "source": [
    "A=np.random.randn(4,3)\n",
    "B=np.random.randn(4,3)\n",
    "c=int(np.random.randn()*100)\n",
    "res1=c*(A+B)\n",
    "res2=c*A+c*B\n",
    "print(A)\n",
    "print('-------')\n",
    "print(A)"
   ]
  },
  {
   "attachments": {},
   "cell_type": "markdown",
   "metadata": {},
   "source": [
    "code challenge 39\n",
    "1. determine whether the trace of tr(A) +tr(B) is equal to the trace of tr(A+B)\n",
    "2. generate random scalar a and determine the relationship of tr(a*A) and tr(a*B)"
   ]
  },
  {
   "cell_type": "code",
   "execution_count": null,
   "metadata": {},
   "outputs": [],
   "source": [
    "m=randint(0,10)\n",
    "n=randint(0,10)\n",
    "print(m,n)\n",
    "A=np.random.randn(6,3)\n",
    "B=np.random.randn(3,4)\n",
    "a=randint(1,10)\n",
    "# trA=np.trace(A)\n",
    "# trB=np.trace(B)\n",
    "# trAB=np.trace(A+B)\n",
    "# print(trA,trB,trA+trB,trAB)\n",
    "# traA=np.trace(a*A)\n",
    "\n",
    "# print(traA,a*trA)\n",
    "\n",
    "print(A)\n",
    "print('-------')\n",
    "print(B)\n",
    "print('-------')\n",
    "mul=np.matmul(A,B)\n",
    "\n",
    "print(mul,mul.shape)"
   ]
  },
  {
   "attachments": {},
   "cell_type": "markdown",
   "metadata": {},
   "source": [
    "code challenge 43:\n",
    "1. generate 2 matrices A and B\n",
    "2. build the product matrix layer-wise (for loop)\n",
    "3. implement the matrix multiplication directly\n",
    "4. compute the results"
   ]
  },
  {
   "cell_type": "code",
   "execution_count": 33,
   "metadata": {},
   "outputs": [
    {
     "name": "stdout",
     "output_type": "stream",
     "text": [
      "[[False  True False  True]\n",
      " [False  True False False]\n",
      " [False  True  True False]\n",
      " [ True False  True  True]]\n"
     ]
    }
   ],
   "source": [
    "m=randint(1,10)\n",
    "n=randint(1,10)\n",
    "A=np.random.randn(m,n)\n",
    "B=np.random.randn(n,m)\n",
    "#build the product matrix layer-wise (for loop)\n",
    "C=np.zeros((m,m))\n",
    "for i in range(n):\n",
    "    C+=np.outer(A[:,i],B[i,:])\n",
    "D=A@B\n",
    "print(C==D)"
   ]
  },
  {
   "cell_type": "code",
   "execution_count": 8,
   "metadata": {},
   "outputs": [
    {
     "name": "stdout",
     "output_type": "stream",
     "text": [
      "[[-0.91124674 -0.0346745   1.79000932]\n",
      " [ 1.03760773  0.16055384  0.1916434 ]\n",
      " [ 1.05643924  1.68755889 -1.37188213]]\n"
     ]
    },
    {
     "data": {
      "text/plain": [
       "array([[  -0.91124674,   -0.34674499,  179.0009321 ],\n",
       "       [   1.03760773,    1.60553844,   19.16433998],\n",
       "       [   1.05643924,   16.87558885, -137.18821273]])"
      ]
     },
     "execution_count": 8,
     "metadata": {},
     "output_type": "execute_result"
    }
   ],
   "source": [
    "A=np.array([[1,0,0],[0,10,0],[0,0,100]])\n",
    "D=np.random.randn(3,3)\n",
    "print(D)\n",
    "D@A"
   ]
  },
  {
   "attachments": {},
   "cell_type": "markdown",
   "metadata": {},
   "source": [
    "code challenge 49:\n",
    "1."
   ]
  },
  {
   "cell_type": "code",
   "execution_count": 6,
   "metadata": {},
   "outputs": [
    {
     "name": "stdout",
     "output_type": "stream",
     "text": [
      "[[ 7 10]\n",
      " [15 22]]\n"
     ]
    },
    {
     "data": {
      "image/png": "[encoded data removed]",
      "text/plain": [
       "<Figure size 640x480 with 1 Axes>"
      ]
     },
     "metadata": {},
     "output_type": "display_data"
    }
   ],
   "source": [
    "#generate a circle of dots with radius 1\n",
    "n=100\n",
    "theta=np.linspace(0,2*np.pi,n)\n",
    "x=np.cos(theta)\n",
    "y=np.sin(theta)\n",
    "plt.plot(x,y,'o')\n",
    "#create 2x2 matrix \n",
    "A=np.array([[1,2],[3,4]])\n",
    "#multiply the matrix with the coordinates\n",
    "B=np.array([x,y])\n",
    "C=np.matmul(A,B)\n",
    "plt.plot(C[0],C[1],'x')\n",
    "#try with various matrices\n",
    "A=np.array([[1,2],[3,4]])\n",
    "B=np.array([[1,2],[3,4]])\n",
    "C=np.matmul(A,B)\n",
    "print(C)\n",
    "#try with singular matrix\n",
    "A=np.array([[1,2],[3,4]])\n",
    "B=np.array([[1,2],[3,4]])\n",
    "C=np.matmul(A,B)\n",
    "plt.show()"
   ]
  },
  {
   "attachments": {},
   "cell_type": "markdown",
   "metadata": {},
   "source": [
    "code challenge 53:\n",
    "1. create two symetric matrices\n",
    "2. cmpute sum,multiplication, and hadamard multiplication\n",
    "3. determine if the result is still symmetric"
   ]
  },
  {
   "cell_type": "code",
   "execution_count": 14,
   "metadata": {},
   "outputs": [
    {
     "name": "stdout",
     "output_type": "stream",
     "text": [
      "[[ 5.68889384 -3.41354757  0.95231813]\n",
      " [-3.41354757  5.90098542 -2.62106126]\n",
      " [ 0.95231813 -2.62106126  9.37209873]]\n",
      "[[  6.90451042  -7.80247178   8.22541189]\n",
      " [ -7.31792117   8.31869505  -8.49271167]\n",
      " [  1.05942271 -13.00461508  18.54648716]]\n",
      "[[ 7.79052732 -0.6421893  -0.2438276 ]\n",
      " [-0.6421893   7.37777184  1.58311251]\n",
      " [-0.2438276   1.58311251 17.20720225]]\n"
     ]
    }
   ],
   "source": [
    "#create two symetric matrices\n",
    "m=3\n",
    "A=np.random.randn(m,m)\n",
    "ATA=A.T@A\n",
    "B=np.random.randn(m,m)\n",
    "BTB=B.T@B\n",
    "#cmpute sum,multiplication, and hadamard multiplication\n",
    "C=ATA+BTB\n",
    "D=ATA@BTB\n",
    "E=ATA*BTB\n",
    "print(C)\n",
    "print(D)\n",
    "print(E)\n"
   ]
  },
  {
   "attachments": {},
   "cell_type": "markdown",
   "metadata": {},
   "source": [
    "\n",
    "1. create 2 new matrix, one is full matrix, and the other is diagonal matrix\n",
    "2. multiply each matrix by itself,"
   ]
  },
  {
   "cell_type": "code",
   "execution_count": 20,
   "metadata": {},
   "outputs": [
    {
     "name": "stdout",
     "output_type": "stream",
     "text": [
      "[[ 0.55187245  0.60181563 -0.41027664  0.04422435]\n",
      " [ 1.12600402 -0.61265613 -0.85941745 -0.34716666]\n",
      " [-0.70170711  0.04488907 -1.54804537  2.53952515]\n",
      " [ 0.26866797  0.0602752   0.08764351  0.86174336]]\n",
      "\n",
      "[[ 1.28198572 -0.05233187 -0.1046284  -1.18832191]\n",
      " [ 0.4413441   0.99349036  1.36454453 -2.2191902 ]\n",
      " [ 1.43185596 -0.3662198   2.86833295 -1.78949775]\n",
      " [ 0.38616333  0.1806366  -0.22217966  0.95613064]]\n",
      "\n",
      "[[3.04563201e-01 3.62182049e-01 1.68326920e-01 1.95579357e-03]\n",
      " [1.26788505e+00 3.75347536e-01 7.38598351e-01 1.20524688e-01]\n",
      " [4.92392864e-01 2.01502870e-03 2.39644447e+00 6.44918797e+00]\n",
      " [7.21824776e-02 3.63309949e-03 7.68138459e-03 7.42601618e-01]]\n",
      "\n"
     ]
    },
    {
     "data": {
      "text/plain": [
       "(None, None)"
      ]
     },
     "execution_count": 20,
     "metadata": {},
     "output_type": "execute_result"
    }
   ],
   "source": [
    "m=4\n",
    "A=np.random.randn(m,m)\n",
    "#create a digonal matrix with the diagonal elements of A\n",
    "B=np.diag(np.diag(A))\n",
    "print(A),print()\n",
    "print(A@A),print()\n",
    "print(A*A),print()\n",
    "# print(B),print()\n",
    "# print(B@B),print()\n",
    "# print(B*B),print()"
   ]
  },
  {
   "cell_type": "code",
   "execution_count": 12,
   "metadata": {},
   "outputs": [
    {
     "name": "stdout",
     "output_type": "stream",
     "text": [
      "[[ 3.50361879 -1.15616581 -0.24341992 -3.02538085]\n",
      " [-1.15616581  2.38283572  1.03871217  0.71273579]\n",
      " [-0.24341992  1.03871217  0.69290802 -0.51059089]\n",
      " [-3.02538085  0.71273579 -0.51059089  4.23237288]]\n",
      "[[ 0  1 -1]\n",
      " [-1  0  1]\n",
      " [ 1 -1  0]]\n",
      "[[ 0.50639446 -1.03446879  0.15237482 -1.2400926 ]\n",
      " [-0.73643335  0.11875784 -0.30248318  2.2320337 ]\n",
      " [-0.97207441  1.04936205 -0.00472717 -0.90681398]\n",
      " [-1.37309199 -1.71326866  0.4037341  -1.35212925]]\n"
     ]
    }
   ],
   "source": [
    "#create symetric matrix\n",
    "m=4\n",
    "A=np.random.randn(m,m)\n",
    "ATA=np.matmul(A,A.T)\n",
    "print(ATA)\n",
    "#create  a skew-symetric matrix\n",
    "B=np.array([[0,1,-1],[-1,0,1],[1,-1,0]])\n",
    "print(B)\n",
    "#create a random matrix\n",
    "C=np.random.randn(m,m)\n",
    "print(C)\n",
    "#mix the matrices A,B\n",
    "# D=ATA@B\n",
    "# print(D)"
   ]
  },
  {
   "cell_type": "code",
   "execution_count": null,
   "metadata": {},
   "outputs": [],
   "source": [
    "#create a 50x50 matrix with random numbers\n",
    "A=np.random.randn(50,80)\n",
    "rank=np.linalg.matrix_rank(A)\n",
    "rank\n",
    "#create a 9 degree random polynomial\n",
    "\n",
    "\n",
    "#find the roots of the polynomial\n",
    "r=np.roots(p)\n",
    "print(p)\n",
    "#evaluate the polynomial at 50 points\n",
    "x=np.linspace(-1,1,50)\n",
    "y=p(x)\n",
    "#plot the polynomial\n",
    "plt.plot(x,y)\n",
    "#plot the polynomial with noise\n",
    "y=y+np.random.randn(50)\n",
    "plt.plot(x,y,'o')\n",
    "#fit the polynomial to the noisy data\n",
    "pfit=np.polyfit(x,y,9)\n",
    "#evaluate the fitted polynomial at 50 points\n",
    "yfit=np.polyval(pfit,x)\n",
    "#plot the fitted polynomial\n",
    "plt.plot(x,yfit)\n",
    "plt.show()"
   ]
  },
  {
   "cell_type": "code",
   "execution_count": 7,
   "metadata": {},
   "outputs": [
    {
     "name": "stdout",
     "output_type": "stream",
     "text": [
      "(10, 10)\n",
      "4\n"
     ]
    }
   ],
   "source": [
    "A=np.random.randn(10,4)\n",
    "B=np.random.randn(4,10)\n",
    "C=A@B\n",
    "print(C.shape)\n",
    "print(np.linalg.matrix_rank(C))\n"
   ]
  },
  {
   "cell_type": "code",
   "execution_count": 8,
   "metadata": {},
   "outputs": [],
   "source": [
    "def generalize_matrix(M,N,r):\n",
    "    A=np.random.randn(M,N)\n",
    "    B=np.random.randn(N,M)\n",
    "    C=A@B\n",
    "    return C"
   ]
  },
  {
   "cell_type": "code",
   "execution_count": 15,
   "metadata": {},
   "outputs": [
    {
     "name": "stdout",
     "output_type": "stream",
     "text": [
      "2 2 2 2\n"
     ]
    }
   ],
   "source": [
    "m=2\n",
    "n=5\n",
    "A=np.random.randn(m,n)\n",
    "B=np.random.randn(m,n)\n",
    "AtA=A.T@A\n",
    "BtB=B.T@B\n",
    "r_A=np.linalg.matrix_rank(A)\n",
    "r_B=np.linalg.matrix_rank(B)\n",
    "r_AtA=np.linalg.matrix_rank(AtA)\n",
    "r_BtB=np.linalg.matrix_rank(BtB)\n",
    "print(r_A,r_B,r_AtA,r_BtB)"
   ]
  },
  {
   "cell_type": "code",
   "execution_count": 17,
   "metadata": {},
   "outputs": [
    {
     "name": "stdout",
     "output_type": "stream",
     "text": [
      "2\n",
      "3\n",
      "[[38]\n",
      " [20]]\n"
     ]
    }
   ],
   "source": [
    "#create a column vector\n",
    "x=np.array([[-3],[1],[5]])\n",
    "mt=np.array([[3,0],[5,2],[1,2]])\n",
    "#detemine whether the vector is in the column space of the matrix\n",
    "# print(np.linalg.matrix_rank(mt))\n",
    "# print(np.linalg.matrix_rank(np.hstack((mt,x))))\n",
    "#determine whether the vector is in the row space of the matrix\n",
    "# print(np.linalg.matrix_rank(mt.T))\n",
    "# print(np.linalg.matrix_rank(np.vstack((mt.T,x.T))))\n",
    "x2=np.array([[1],[7],[3]])\n",
    "mt2=np.array([[0,0],[5,2],[1,2]])\n",
    "print(np.linalg.matrix_rank(mt2))\n",
    "print(np.linalg.matrix_rank(np.hstack((mt2,x2))))\n",
    "print(mt2.T@x2)\n",
    "\n"
   ]
  },
  {
   "attachments": {},
   "cell_type": "markdown",
   "metadata": {},
   "source": [
    "code challenge 85:\n",
    "do a RREF of diffrant matrices (random)\n",
    "1. squre\n",
    "2. rectangles (wide,tall)\n",
    "3. linear dependencies"
   ]
  },
  {
   "cell_type": "code",
   "execution_count": 1,
   "metadata": {},
   "outputs": [
    {
     "ename": "NameError",
     "evalue": "name 'sp' is not defined",
     "output_type": "error",
     "traceback": [
      "\u001b[1;31m---------------------------------------------------------------------------\u001b[0m",
      "\u001b[1;31mNameError\u001b[0m                                 Traceback (most recent call last)",
      "\u001b[1;32m~\\AppData\\Local\\Temp\\ipykernel_24896\\2593299058.py\u001b[0m in \u001b[0;36m<module>\u001b[1;34m\u001b[0m\n\u001b[0;32m      1\u001b[0m \u001b[0mm\u001b[0m\u001b[1;33m=\u001b[0m\u001b[1;36m3\u001b[0m\u001b[1;33m\u001b[0m\u001b[1;33m\u001b[0m\u001b[0m\n\u001b[0;32m      2\u001b[0m \u001b[0mn\u001b[0m\u001b[1;33m=\u001b[0m\u001b[1;36m6\u001b[0m\u001b[1;33m\u001b[0m\u001b[1;33m\u001b[0m\u001b[0m\n\u001b[1;32m----> 3\u001b[1;33m \u001b[0mA\u001b[0m\u001b[1;33m=\u001b[0m\u001b[0msp\u001b[0m\u001b[1;33m.\u001b[0m\u001b[0mMatrix\u001b[0m\u001b[1;33m(\u001b[0m\u001b[0mnp\u001b[0m\u001b[1;33m.\u001b[0m\u001b[0mrandom\u001b[0m\u001b[1;33m.\u001b[0m\u001b[0mrandn\u001b[0m\u001b[1;33m(\u001b[0m\u001b[0mm\u001b[0m\u001b[1;33m,\u001b[0m\u001b[0mm\u001b[0m\u001b[1;33m)\u001b[0m\u001b[1;33m)\u001b[0m\u001b[1;33m\u001b[0m\u001b[1;33m\u001b[0m\u001b[0m\n\u001b[0m\u001b[0;32m      4\u001b[0m \u001b[0mB\u001b[0m\u001b[1;33m=\u001b[0m\u001b[0msp\u001b[0m\u001b[1;33m.\u001b[0m\u001b[0mMatrix\u001b[0m\u001b[1;33m(\u001b[0m\u001b[0mnp\u001b[0m\u001b[1;33m.\u001b[0m\u001b[0mrandom\u001b[0m\u001b[1;33m.\u001b[0m\u001b[0mrandn\u001b[0m\u001b[1;33m(\u001b[0m\u001b[0mm\u001b[0m\u001b[1;33m,\u001b[0m\u001b[0mn\u001b[0m\u001b[1;33m)\u001b[0m\u001b[1;33m)\u001b[0m\u001b[1;33m\u001b[0m\u001b[1;33m\u001b[0m\u001b[0m\n\u001b[0;32m      5\u001b[0m \u001b[0mC\u001b[0m\u001b[1;33m=\u001b[0m\u001b[0msp\u001b[0m\u001b[1;33m.\u001b[0m\u001b[0mMatrix\u001b[0m\u001b[1;33m(\u001b[0m\u001b[0mnp\u001b[0m\u001b[1;33m.\u001b[0m\u001b[0mrandom\u001b[0m\u001b[1;33m.\u001b[0m\u001b[0mrandn\u001b[0m\u001b[1;33m(\u001b[0m\u001b[0mn\u001b[0m\u001b[1;33m,\u001b[0m\u001b[0mm\u001b[0m\u001b[1;33m)\u001b[0m\u001b[1;33m)\u001b[0m\u001b[1;33m\u001b[0m\u001b[1;33m\u001b[0m\u001b[0m\n",
      "\u001b[1;31mNameError\u001b[0m: name 'sp' is not defined"
     ]
    }
   ],
   "source": [
    "m=3\n",
    "n=6\n",
    "A=sp.Matrix(np.random.randn(m,m))\n",
    "B=sp.Matrix(np.random.randn(m,n))\n",
    "C=sp.Matrix(np.random.randn(n,m))\n",
    "rref_a=A.rref()\n",
    "rref_b=B.rref()\n",
    "rref_c=C.rref()\n",
    "print(A)\n",
    "print('-----------------------------')\n",
    "print(rref_a)\n",
    "\n",
    "print(B)\n",
    "print('-----------------------------')\n",
    "print(rref_b)\n",
    "\n",
    "print(C)\n",
    "print('-----------------------------')\n",
    "print(rref_c)"
   ]
  }
 ],
 "metadata": {
  "kernelspec": {
   "display_name": "base",
   "language": "python",
   "name": "python3"
  },
  "language_info": {
   "codemirror_mode": {
    "name": "ipython",
    "version": 3
   },
   "file_extension": ".py",
   "mimetype": "text/x-python",
   "name": "python",
   "nbconvert_exporter": "python",
   "pygments_lexer": "ipython3",
   "version": "3.9.13"
  },
  "orig_nbformat": 4,
  "vscode": {
   "interpreter": {
    "hash": "3f5489b7472e0db5a0aca474269aa1efb9aed33b7cc21a8c650b51c14ef83b94"
   }
  }
 },
 "nbformat": 4,
 "nbformat_minor": 2
}
