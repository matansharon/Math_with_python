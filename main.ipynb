{
 "cells": [
  {
   "cell_type": "code",
   "execution_count": 1,
   "metadata": {},
   "outputs": [],
   "source": [
    "import numpy as np\n",
    "import matplotlib.pyplot as plt\n",
    "import pandas as pd\n",
    "import sympy as sp\n",
    "from random import randint"
   ]
  },
  {
   "attachments": {},
   "cell_type": "markdown",
   "metadata": {},
   "source": [
    "coding challenge at lecture 12:\n",
    "1.create 2 4x6 matrics of random numbers\n",
    "2. use a for loop to compute thr dot products between corrsponding columns"
   ]
  },
  {
   "cell_type": "code",
   "execution_count": null,
   "metadata": {},
   "outputs": [],
   "source": [
    "n=4\n",
    "m=6\n",
    "#create a 4 on 6 matrix\n",
    "a=np.random.rand(n,m)   \n",
    "b=np.random.rand(n,m)\n",
    "print(a)\n",
    "print(a[:,0])\n",
    "#create an empty matrix\n",
    "c=np.zeros(6)\n",
    "for i in range(m):\n",
    "    c[i]=np.dot(a[:,i],b[:,i])\n",
    "c\n",
    "    "
   ]
  },
  {
   "cell_type": "markdown",
   "metadata": {},
   "source": [
    "1. generate 2 100-elemnts row vector. compute a with b and then b with a.\n",
    "2. generate 2 2-elemnts integer row vector. compute a with b and then b with"
   ]
  },
  {
   "cell_type": "code",
   "execution_count": null,
   "metadata": {},
   "outputs": [],
   "source": [
    "#generate a 100 element vector\n",
    "x=np.random.randn(100)\n",
    "y=np.random.randn(100)\n",
    "#write the for loop in one line\n",
    "# x=np.array([x[i]*100 for i in range(100)])\n",
    "# b=np.array([b[i]*100 for i in range(100)])\n",
    "plt.plot(x,'o')\n",
    "plt.plot(y,'x')\n",
    "plt.plot(np.dot(x,y),'v')"
   ]
  },
  {
   "cell_type": "code",
   "execution_count": null,
   "metadata": {},
   "outputs": [],
   "source": [
    "v1=np.array([2,4,-3])\n",
    "v2=np.array([0,-3,-3])\n",
    "ang=np.arccos(np.dot(v1,v2)/(np.linalg.norm(v1)*np.linalg.norm(v2)))\n",
    "\n",
    "#draw them\n",
    "fig=plt.figure()\n",
    "ax=fig.gca(projection='3d')\n",
    "ax.plot([0,v1[0]],[0,v1[1]],[0,v1[2]],'r')\n",
    "ax.plot([0,v2[0]],[0,v2[1]],[0,v2[2]],'b')\n",
    "ax.plot([0,v1[0]+v2[0]],[0,v1[1]+v2[1]],[0,v1[2]+v2[2]],'g')\n",
    "ax.set_xlabel('x')\n",
    "ax.set_ylabel('y')\n",
    "ax.set_zlabel('z')\n",
    "ax.set_xlim(-6,6)\n",
    "ax.set_ylim(-6,6)\n",
    "ax.set_zlim(-6,6)\n",
    "plt.show()\n"
   ]
  },
  {
   "cell_type": "markdown",
   "metadata": {},
   "source": [
    "code chalenge lecture 16"
   ]
  },
  {
   "cell_type": "code",
   "execution_count": null,
   "metadata": {},
   "outputs": [],
   "source": [
    "#proof the cauchy schwarz inequality\n",
    "a=np.random.rand(100)\n",
    "b=np.random.rand(100)\n",
    "for i in range(100):\n",
    "    a[i]*=100\n",
    "np.abs(np.dot(a,b))\n",
    "\n"
   ]
  },
  {
   "cell_type": "code",
   "execution_count": null,
   "metadata": {},
   "outputs": [],
   "source": [
    "#obtuse angle\n",
    "a=[1,-2]\n",
    "b=[2,3]\n",
    "c=[0,2]\n",
    "#calculate the angle between a and b and a and c and b and c and show the result in degrees\n",
    "ang1=np.arccos(np.dot(a,b)/(np.linalg.norm(a)*np.linalg.norm(b)))*180/np.pi\n",
    "ang2=np.arccos(np.dot(a,c)/(np.linalg.norm(a)*np.linalg.norm(c)))*180/np.pi\n",
    "ang3=np.arccos(np.dot(b,c)/(np.linalg.norm(b)*np.linalg.norm(c)))*180/np.pi\n",
    "print(ang1,ang2,ang3)"
   ]
  },
  {
   "cell_type": "markdown",
   "metadata": {},
   "source": [
    "1. create 2 random (R4) vectors\n",
    "2. comput the length of each vector and the magnitude of their dot product\n",
    "3. compute the unit vector of each vector \n",
    "4. compute the magnitude of each vector dot product"
   ]
  },
  {
   "cell_type": "code",
   "execution_count": null,
   "metadata": {},
   "outputs": [],
   "source": [
    "n=4\n",
    "v1=50*(np.random.rand(n))\n",
    "v2=50*(np.random.rand(n))\n",
    "print(v1,v2)\n",
    "#cunoute the length of v1 and v2\n",
    "v1L=np.dot(v1,v1)**0.5\n",
    "v2L=np.dot(v2,v2)**0.5\n",
    "v1v2m=np.dot(v1L,v2L)\n",
    "\n",
    "print(v1L,v2L,v1v2m)\n",
    "v1mu=1/v1L\n",
    "v2mu=1/v2L\n",
    "print(v1mu,v2mu)\n",
    "print(v1mu*v1L,v2mu*v2L)"
   ]
  },
  {
   "cell_type": "code",
   "execution_count": null,
   "metadata": {},
   "outputs": [],
   "source": [
    "arrays=[]\n",
    "for i in range(5):\n",
    "    a=randint(1,10)\n",
    "    b=randint(1,10)\n",
    "    if a>b:\n",
    "        temp=a\n",
    "        a=b\n",
    "        b=temp\n",
    "    m=np.random.randint(10,20,size=(a,b))\n",
    "    arrays.append(m)\n"
   ]
  },
  {
   "cell_type": "code",
   "execution_count": null,
   "metadata": {},
   "outputs": [],
   "source": [
    "r={}\n",
    "#find all the matrices with the same size\n",
    "for i in range(len(arrays)):\n",
    "    for j in range(i+1,len(arrays)):\n",
    "        if arrays[i].shape==arrays[j].shape:\n",
    "            r[i,j]=arrays[i]\n",
    "print(arrays[0],arrays[0]*2)\n",
    "    \n"
   ]
  },
  {
   "cell_type": "markdown",
   "metadata": {},
   "source": [
    "code challenge lecture 35\n",
    "1.test for some MxN matricies whether s(A+B)== sA +sB "
   ]
  },
  {
   "cell_type": "code",
   "execution_count": null,
   "metadata": {},
   "outputs": [],
   "source": [
    "A=np.random.randn(4,3)\n",
    "B=np.random.randn(4,3)\n",
    "c=int(np.random.randn()*100)\n",
    "res1=c*(A+B)\n",
    "res2=c*A+c*B\n",
    "print(A)\n",
    "print('-------')\n",
    "print(A)"
   ]
  },
  {
   "attachments": {},
   "cell_type": "markdown",
   "metadata": {},
   "source": [
    "code challenge 39\n",
    "1. determine whether the trace of tr(A) +tr(B) is equal to the trace of tr(A+B)\n",
    "2. generate random scalar a and determine the relationship of tr(a*A) and tr(a*B)"
   ]
  },
  {
   "cell_type": "code",
   "execution_count": null,
   "metadata": {},
   "outputs": [],
   "source": [
    "m=randint(0,10)\n",
    "n=randint(0,10)\n",
    "print(m,n)\n",
    "A=np.random.randn(6,3)\n",
    "B=np.random.randn(3,4)\n",
    "a=randint(1,10)\n",
    "# trA=np.trace(A)\n",
    "# trB=np.trace(B)\n",
    "# trAB=np.trace(A+B)\n",
    "# print(trA,trB,trA+trB,trAB)\n",
    "# traA=np.trace(a*A)\n",
    "\n",
    "# print(traA,a*trA)\n",
    "\n",
    "print(A)\n",
    "print('-------')\n",
    "print(B)\n",
    "print('-------')\n",
    "mul=np.matmul(A,B)\n",
    "\n",
    "print(mul,mul.shape)"
   ]
  },
  {
   "attachments": {},
   "cell_type": "markdown",
   "metadata": {},
   "source": [
    "code challenge 43:\n",
    "1. generate 2 matrices A and B\n",
    "2. build the product matrix layer-wise (for loop)\n",
    "3. implement the matrix multiplication directly\n",
    "4. compute the results"
   ]
  },
  {
   "cell_type": "code",
   "execution_count": 33,
   "metadata": {},
   "outputs": [
    {
     "name": "stdout",
     "output_type": "stream",
     "text": [
      "[[False  True False  True]\n",
      " [False  True False False]\n",
      " [False  True  True False]\n",
      " [ True False  True  True]]\n"
     ]
    }
   ],
   "source": [
    "m=randint(1,10)\n",
    "n=randint(1,10)\n",
    "A=np.random.randn(m,n)\n",
    "B=np.random.randn(n,m)\n",
    "#build the product matrix layer-wise (for loop)\n",
    "C=np.zeros((m,m))\n",
    "for i in range(n):\n",
    "    C+=np.outer(A[:,i],B[i,:])\n",
    "D=A@B\n",
    "print(C==D)"
   ]
  },
  {
   "cell_type": "code",
   "execution_count": 8,
   "metadata": {},
   "outputs": [
    {
     "name": "stdout",
     "output_type": "stream",
     "text": [
      "[[-0.91124674 -0.0346745   1.79000932]\n",
      " [ 1.03760773  0.16055384  0.1916434 ]\n",
      " [ 1.05643924  1.68755889 -1.37188213]]\n"
     ]
    },
    {
     "data": {
      "text/plain": [
       "array([[  -0.91124674,   -0.34674499,  179.0009321 ],\n",
       "       [   1.03760773,    1.60553844,   19.16433998],\n",
       "       [   1.05643924,   16.87558885, -137.18821273]])"
      ]
     },
     "execution_count": 8,
     "metadata": {},
     "output_type": "execute_result"
    }
   ],
   "source": [
    "A=np.array([[1,0,0],[0,10,0],[0,0,100]])\n",
    "D=np.random.randn(3,3)\n",
    "print(D)\n",
    "D@A"
   ]
  },
  {
   "attachments": {},
   "cell_type": "markdown",
   "metadata": {},
   "source": [
    "code challenge 49:\n",
    "1."
   ]
  },
  {
   "cell_type": "code",
   "execution_count": 6,
   "metadata": {},
   "outputs": [
    {
     "name": "stdout",
     "output_type": "stream",
     "text": [
      "[[ 7 10]\n",
      " [15 22]]\n"
     ]
    },
    {
     "data": {
      "image/png": "[encoded data removed]",
      "text/plain": [
       "<Figure size 640x480 with 1 Axes>"
      ]
     },
     "metadata": {},
     "output_type": "display_data"
    }
   ],
   "source": [
    "#generate a circle of dots with radius 1\n",
    "n=100\n",
    "theta=np.linspace(0,2*np.pi,n)\n",
    "x=np.cos(theta)\n",
    "y=np.sin(theta)\n",
    "plt.plot(x,y,'o')\n",
    "#create 2x2 matrix \n",
    "A=np.array([[1,2],[3,4]])\n",
    "#multiply the matrix with the coordinates\n",
    "B=np.array([x,y])\n",
    "C=np.matmul(A,B)\n",
    "plt.plot(C[0],C[1],'x')\n",
    "#try with various matrices\n",
    "A=np.array([[1,2],[3,4]])\n",
    "B=np.array([[1,2],[3,4]])\n",
    "C=np.matmul(A,B)\n",
    "print(C)\n",
    "#try with singular matrix\n",
    "A=np.array([[1,2],[3,4]])\n",
    "B=np.array([[1,2],[3,4]])\n",
    "C=np.matmul(A,B)\n",
    "plt.show()"
   ]
  },
  {
   "attachments": {},
   "cell_type": "markdown",
   "metadata": {},
   "source": [
    "code challenge 53:\n",
    "1. create two symetric matrices\n",
    "2. cmpute sum,multiplication, and hadamard multiplication\n",
    "3. determine if the result is still symmetric"
   ]
  },
  {
   "cell_type": "code",
   "execution_count": 14,
   "metadata": {},
   "outputs": [
    {
     "name": "stdout",
     "output_type": "stream",
     "text": [
      "[[ 5.68889384 -3.41354757  0.95231813]\n",
      " [-3.41354757  5.90098542 -2.62106126]\n",
      " [ 0.95231813 -2.62106126  9.37209873]]\n",
      "[[  6.90451042  -7.80247178   8.22541189]\n",
      " [ -7.31792117   8.31869505  -8.49271167]\n",
      " [  1.05942271 -13.00461508  18.54648716]]\n",
      "[[ 7.79052732 -0.6421893  -0.2438276 ]\n",
      " [-0.6421893   7.37777184  1.58311251]\n",
      " [-0.2438276   1.58311251 17.20720225]]\n"
     ]
    }
   ],
   "source": [
    "#create two symetric matrices\n",
    "m=3\n",
    "A=np.random.randn(m,m)\n",
    "ATA=A.T@A\n",
    "B=np.random.randn(m,m)\n",
    "BTB=B.T@B\n",
    "#cmpute sum,multiplication, and hadamard multiplication\n",
    "C=ATA+BTB\n",
    "D=ATA@BTB\n",
    "E=ATA*BTB\n",
    "print(C)\n",
    "print(D)\n",
    "print(E)\n"
   ]
  },
  {
   "attachments": {},
   "cell_type": "markdown",
   "metadata": {},
   "source": [
    "\n",
    "1. create 2 new matrix, one is full matrix, and the other is diagonal matrix\n",
    "2. multiply each matrix by itself,"
   ]
  },
  {
   "cell_type": "code",
   "execution_count": 20,
   "metadata": {},
   "outputs": [
    {
     "name": "stdout",
     "output_type": "stream",
     "text": [
      "[[ 0.55187245  0.60181563 -0.41027664  0.04422435]\n",
      " [ 1.12600402 -0.61265613 -0.85941745 -0.34716666]\n",
      " [-0.70170711  0.04488907 -1.54804537  2.53952515]\n",
      " [ 0.26866797  0.0602752   0.08764351  0.86174336]]\n",
      "\n",
      "[[ 1.28198572 -0.05233187 -0.1046284  -1.18832191]\n",
      " [ 0.4413441   0.99349036  1.36454453 -2.2191902 ]\n",
      " [ 1.43185596 -0.3662198   2.86833295 -1.78949775]\n",
      " [ 0.38616333  0.1806366  -0.22217966  0.95613064]]\n",
      "\n",
      "[[3.04563201e-01 3.62182049e-01 1.68326920e-01 1.95579357e-03]\n",
      " [1.26788505e+00 3.75347536e-01 7.38598351e-01 1.20524688e-01]\n",
      " [4.92392864e-01 2.01502870e-03 2.39644447e+00 6.44918797e+00]\n",
      " [7.21824776e-02 3.63309949e-03 7.68138459e-03 7.42601618e-01]]\n",
      "\n"
     ]
    },
    {
     "data": {
      "text/plain": [
       "(None, None)"
      ]
     },
     "execution_count": 20,
     "metadata": {},
     "output_type": "execute_result"
    }
   ],
   "source": [
    "m=4\n",
    "A=np.random.randn(m,m)\n",
    "#create a digonal matrix with the diagonal elements of A\n",
    "B=np.diag(np.diag(A))\n",
    "print(A),print()\n",
    "print(A@A),print()\n",
    "print(A*A),print()\n",
    "# print(B),print()\n",
    "# print(B@B),print()\n",
    "# print(B*B),print()"
   ]
  },
  {
   "cell_type": "code",
   "execution_count": 12,
   "metadata": {},
   "outputs": [
    {
     "name": "stdout",
     "output_type": "stream",
     "text": [
      "[[ 3.50361879 -1.15616581 -0.24341992 -3.02538085]\n",
      " [-1.15616581  2.38283572  1.03871217  0.71273579]\n",
      " [-0.24341992  1.03871217  0.69290802 -0.51059089]\n",
      " [-3.02538085  0.71273579 -0.51059089  4.23237288]]\n",
      "[[ 0  1 -1]\n",
      " [-1  0  1]\n",
      " [ 1 -1  0]]\n",
      "[[ 0.50639446 -1.03446879  0.15237482 -1.2400926 ]\n",
      " [-0.73643335  0.11875784 -0.30248318  2.2320337 ]\n",
      " [-0.97207441  1.04936205 -0.00472717 -0.90681398]\n",
      " [-1.37309199 -1.71326866  0.4037341  -1.35212925]]\n"
     ]
    }
   ],
   "source": [
    "#create symetric matrix\n",
    "m=4\n",
    "A=np.random.randn(m,m)\n",
    "ATA=np.matmul(A,A.T)\n",
    "print(ATA)\n",
    "#create  a skew-symetric matrix\n",
    "B=np.array([[0,1,-1],[-1,0,1],[1,-1,0]])\n",
    "print(B)\n",
    "#create a random matrix\n",
    "C=np.random.randn(m,m)\n",
    "print(C)\n",
    "#mix the matrices A,B\n",
    "# D=ATA@B\n",
    "# print(D)"
   ]
  },
  {
   "cell_type": "code",
   "execution_count": null,
   "metadata": {},
   "outputs": [],
   "source": [
    "#create a 50x50 matrix with random numbers\n",
    "A=np.random.randn(50,80)\n",
    "rank=np.linalg.matrix_rank(A)\n",
    "rank\n",
    "#create a 9 degree random polynomial\n",
    "\n",
    "\n",
    "#find the roots of the polynomial\n",
    "r=np.roots(p)\n",
    "print(p)\n",
    "#evaluate the polynomial at 50 points\n",
    "x=np.linspace(-1,1,50)\n",
    "y=p(x)\n",
    "#plot the polynomial\n",
    "plt.plot(x,y)\n",
    "#plot the polynomial with noise\n",
    "y=y+np.random.randn(50)\n",
    "plt.plot(x,y,'o')\n",
    "#fit the polynomial to the noisy data\n",
    "pfit=np.polyfit(x,y,9)\n",
    "#evaluate the fitted polynomial at 50 points\n",
    "yfit=np.polyval(pfit,x)\n",
    "#plot the fitted polynomial\n",
    "plt.plot(x,yfit)\n",
    "plt.show()"
   ]
  },
  {
   "cell_type": "code",
   "execution_count": 7,
   "metadata": {},
   "outputs": [
    {
     "name": "stdout",
     "output_type": "stream",
     "text": [
      "(10, 10)\n",
      "4\n"
     ]
    }
   ],
   "source": [
    "A=np.random.randn(10,4)\n",
    "B=np.random.randn(4,10)\n",
    "C=A@B\n",
    "print(C.shape)\n",
    "print(np.linalg.matrix_rank(C))\n"
   ]
  },
  {
   "cell_type": "code",
   "execution_count": 8,
   "metadata": {},
   "outputs": [],
   "source": [
    "def generalize_matrix(M,N,r):\n",
    "    A=np.random.randn(M,N)\n",
    "    B=np.random.randn(N,M)\n",
    "    C=A@B\n",
    "    return C"
   ]
  },
  {
   "cell_type": "code",
   "execution_count": 15,
   "metadata": {},
   "outputs": [
    {
     "name": "stdout",
     "output_type": "stream",
     "text": [
      "2 2 2 2\n"
     ]
    }
   ],
   "source": [
    "m=2\n",
    "n=5\n",
    "A=np.random.randn(m,n)\n",
    "B=np.random.randn(m,n)\n",
    "AtA=A.T@A\n",
    "BtB=B.T@B\n",
    "r_A=np.linalg.matrix_rank(A)\n",
    "r_B=np.linalg.matrix_rank(B)\n",
    "r_AtA=np.linalg.matrix_rank(AtA)\n",
    "r_BtB=np.linalg.matrix_rank(BtB)\n",
    "print(r_A,r_B,r_AtA,r_BtB)"
   ]
  },
  {
   "cell_type": "code",
   "execution_count": 17,
   "metadata": {},
   "outputs": [
    {
     "name": "stdout",
     "output_type": "stream",
     "text": [
      "2\n",
      "3\n",
      "[[38]\n",
      " [20]]\n"
     ]
    }
   ],
   "source": [
    "#create a column vector\n",
    "x=np.array([[-3],[1],[5]])\n",
    "mt=np.array([[3,0],[5,2],[1,2]])\n",
    "#detemine whether the vector is in the column space of the matrix\n",
    "# print(np.linalg.matrix_rank(mt))\n",
    "# print(np.linalg.matrix_rank(np.hstack((mt,x))))\n",
    "#determine whether the vector is in the row space of the matrix\n",
    "# print(np.linalg.matrix_rank(mt.T))\n",
    "# print(np.linalg.matrix_rank(np.vstack((mt.T,x.T))))\n",
    "x2=np.array([[1],[7],[3]])\n",
    "mt2=np.array([[0,0],[5,2],[1,2]])\n",
    "print(np.linalg.matrix_rank(mt2))\n",
    "print(np.linalg.matrix_rank(np.hstack((mt2,x2))))\n",
    "print(mt2.T@x2)\n",
    "\n"
   ]
  },
  {
   "attachments": {},
   "cell_type": "markdown",
   "metadata": {},
   "source": [
    "code challenge 85:\n",
    "do a RREF of diffrant matrices (random)\n",
    "1. squre\n",
    "2. rectangles (wide,tall)\n",
    "3. linear dependencies"
   ]
  },
  {
   "cell_type": "code",
   "execution_count": null,
   "metadata": {},
   "outputs": [],
   "source": [
    "m=3\n",
    "n=6\n",
    "A=sp.Matrix(np.random.randn(m,m))\n",
    "B=sp.Matrix(np.random.randn(m,n))\n",
    "C=sp.Matrix(np.random.randn(n,m))\n",
    "rref_a=A.rref()\n",
    "rref_b=B.rref()\n",
    "rref_c=C.rref()\n",
    "print(np.array(A))\n",
    "print('*'*20)\n",
    "print(np.array(rref_a[0]))\n",
    "print('-----------------------------')\n",
    "print(np.array(B))\n",
    "print('*'*20)\n",
    "print(np.array(rref_b[0]))\n",
    "print('-----------------------------')\n",
    "print(np.array(C))\n",
    "print('*'*20)\n",
    "print(np.array(rref_c[0]))"
   ]
  },
  {
   "cell_type": "code",
   "execution_count": 21,
   "metadata": {},
   "outputs": [
    {
     "name": "stdout",
     "output_type": "stream",
     "text": [
      "0.13699455716336106\n",
      "0.0\n",
      "39\n",
      "133033887.42420764\n"
     ]
    }
   ],
   "source": [
    "A=np.random.randn(2,2)\n",
    "detA=np.linalg.det(A)\n",
    "print(detA)\n",
    "B=np.array([[1,2],[3,6]])\n",
    "print(np.linalg.det(B))\n",
    "m=40\n",
    "C=np.random.randn(m,m)\n",
    "#make a linearly dependent matrix\n",
    "C[2,:]=C[0,:]+C[1,:]\n",
    "#print the rank of the matrix C\n",
    "print(np.linalg.matrix_rank(C))\n",
    "print(np.linalg.det(C))\n"
   ]
  },
  {
   "cell_type": "code",
   "execution_count": 7,
   "metadata": {},
   "outputs": [
    {
     "name": "stdout",
     "output_type": "stream",
     "text": [
      "18.7700639807433\n",
      "-18.7700639807433\n",
      "18.7700639807433\n"
     ]
    }
   ],
   "source": [
    "A=np.random.randn(6,6)\n",
    "print(np.linalg.det(A))\n",
    "#swap the first and second rows\n",
    "A[[0,1]]=A[[1,0]]\n",
    "print(np.linalg.det(A))\n",
    "#swap the third and forth row\n",
    "A[[2,3]]=A[[3,2]]\n",
    "print(np.linalg.det(A))\n",
    "\n",
    "\n"
   ]
  },
  {
   "cell_type": "code",
   "execution_count": null,
   "metadata": {},
   "outputs": [],
   "source": [
    "#create hang man game\n",
    "import random\n",
    "import string\n",
    "#create a list of words \n",
    "words=['apple','banana','orange','grape','watermelon','strawberry','pineapple','mango','kiwi','pear','peach','cherry','blueberry','raspberry','lemon','lime','coconut','avocado','tomato','cucumber','carrot','potato','pepper','onion','garlic','celery','broccoli','cauliflower','spinach','lettuce','asparagus','mushroom','corn','zucchini','cabbage','bean','pea','eggplant','sweet potato','yam','pumpkin','squash','radish','turnip','ginger','garlic','honeydew','melon','grapefruit','pomegranate','apricot','plum','nectarine','fig','date','olive','artichoke','sweet pepper','chili pepper','okra','kale','collard greens','brussel sprouts','mustard greens','turnip greens','rutabaga','turnip','beet','cantaloupe','carambola','durian','jackfruit','lychee','mangosteen','star fruit','tamarind','water chestnut','yautia','plantain','taro','sweet corn','sweet pea','sweet potato','sweet pepper','sweet onion','sweet basil','sweet cherry','sweet pea','sweet']\n",
    "#choose a random word from the list\n",
    "word=random.choice(words)\n",
    "#convert the word to a list\n",
    "word=list(word)\n",
    "#convert the word to a seT\n",
    "word_set=set(word)\n",
    "\n"
   ]
  },
  {
   "attachments": {},
   "cell_type": "markdown",
   "metadata": {},
   "source": [
    "code challenge 101\n",
    "1. create diagonal matrix\n",
    "2. compute the inverse of the diagonal matrix\n"
   ]
  },
  {
   "cell_type": "code",
   "execution_count": 17,
   "metadata": {},
   "outputs": [
    {
     "name": "stdout",
     "output_type": "stream",
     "text": [
      "Shape of A^TA: (6, 6)\n",
      "Rank of A^TA: 3\n",
      "Shape of AA^T: (3, 3)\n",
      "Rank of AA^T: 3\n",
      "[[-3.40735531e+01 -4.53102251e+00  6.07750467e+01 -6.10494164e+01\n",
      "  -5.97144492e+01  3.06793859e+01]\n",
      " [-1.89687014e+01 -2.76388470e+00  3.40255092e+01 -3.41467152e+01\n",
      "  -3.30800426e+01  1.69438648e+01]\n",
      " [-1.33178785e+01 -2.98848982e+00  2.48641372e+01 -2.46004612e+01\n",
      "  -2.31578719e+01  1.16727217e+01]\n",
      " [ 1.06247763e+01  5.35616349e-01 -1.79475391e+01  1.86061529e+01\n",
      "   1.78283402e+01 -9.27105076e+00]\n",
      " [-1.48053576e+00  1.86877773e+00  4.20166447e-01 -1.56849025e+00\n",
      "  -1.37305646e+00  1.00312787e+00]\n",
      " [-1.66166432e-02  5.39076821e+00 -5.58896380e+00  2.89052288e+00\n",
      "   2.34970257e+00 -3.85418587e-01]]\n",
      " \n",
      "[[ 1.00000000e+00 -2.59314649e-17  2.46139985e-16]\n",
      " [-5.11335343e-17  1.00000000e+00  5.40678138e-17]\n",
      " [-2.46036495e-16  9.51409618e-17  1.00000000e+00]]\n",
      " \n",
      "[[-33.41186493  -4.2723796   61.04765559 -60.39133378 -58.87169844\n",
      "   30.630486  ]\n",
      " [-18.83735649  -2.69576787  34.26581343 -34.16284266 -33.45776786\n",
      "   17.11243083]\n",
      " [-13.31199675  -2.90140652  24.81542552 -23.91059956 -22.28204786\n",
      "   11.80160962]\n",
      " [ 10.21877691   0.44839044 -17.22085461  17.34450122  17.66361461\n",
      "   -9.15093307]\n",
      " [ -0.69013781   0.06326748   3.38140844  -0.38241081  -0.4878897\n",
      "    0.8257424 ]\n",
      " [ -1.53552972   3.66803226  -6.45104994   7.99595774   0.27933289\n",
      "   -1.11777688]]\n",
      " \n",
      "[[ 1.00000000e+00 -7.58124355e-17  1.49255801e-16]\n",
      " [ 1.42032473e-17  1.00000000e+00  3.42951699e-17]\n",
      " [-1.58687193e-16 -3.17716336e-17  1.00000000e+00]]\n"
     ]
    }
   ],
   "source": [
    "# m>n for left inverse,\n",
    "# m<n for right inverse\n",
    "#if i swip the m and n here all the code is broken\n",
    "m = 3\n",
    "n = 6\n",
    "\n",
    "# create matrices\n",
    "A = np.random.randn(m,n)\n",
    "AtA = A.T@A\n",
    "AAt = A@A.T\n",
    "\n",
    "# inspect ranks\n",
    "print('Shape of A^TA:', np.shape(AtA) )\n",
    "print('Rank of A^TA:', np.linalg.matrix_rank(AtA) )\n",
    "print('Shape of AA^T:', np.shape(AAt) )\n",
    "print('Rank of AA^T:', np.linalg.matrix_rank(AAt) ) \n",
    "\n",
    "# left inverse\n",
    "Aleft = np.linalg.inv(AtA)@A.T\n",
    "\n",
    "# right inverse\n",
    "Aright = A.T@np.linalg.inv(AAt)\n",
    "\n",
    "# now test!\n",
    "I_left  = Aleft  @ A\n",
    "I_right = A @ Aright\n",
    "\n",
    "print(I_left), print(' ')\n",
    "print(I_right), print(' ')\n",
    "\n",
    "\n",
    "# and then test using the inverse function\n",
    "AtA_inv = np.linalg.inv(AtA)\n",
    "I_AtA   = AtA_inv @ AtA\n",
    "\n",
    "AAt_inv = np.linalg.inv(AAt)\n",
    "I_AAt   = AAt_inv @ AAt\n",
    "\n",
    "print(I_AtA), print(' ')\n",
    "print(I_AAt)"
   ]
  },
  {
   "cell_type": "code",
   "execution_count": 6,
   "metadata": {},
   "outputs": [
    {
     "name": "stdout",
     "output_type": "stream",
     "text": [
      "A is invertible\n",
      "-0.77319681402275\n",
      "A is invertible\n",
      "69.57012457089847\n",
      "A is invertible\n",
      "23.347091554556574\n",
      "A is invertible\n",
      "-6.242665709956923\n",
      "A is invertible\n",
      "-2.4686955530281955\n",
      "A is invertible\n",
      "-0.1220515601487169\n",
      "A is invertible\n",
      "-47.29175817634783\n",
      "A is invertible\n",
      "-97.81375089438158\n",
      "A is invertible\n",
      "-0.36825462226930694\n",
      "A is invertible\n",
      "-13.09451263046689\n",
      "A is invertible\n",
      "-9.532173092729353\n",
      "A is invertible\n",
      "-119.8465057826315\n",
      "A is invertible\n",
      "-4.43378333767771\n",
      "A is invertible\n",
      "-2.0829192105447016\n",
      "A is invertible\n",
      "0.3528261514257304\n",
      "A is invertible\n",
      "0.1820739768371461\n",
      "A is invertible\n",
      "-23.97845307830732\n",
      "A is invertible\n",
      "1.908900936011356\n",
      "A is invertible\n",
      "0.5799557666344027\n",
      "A is invertible\n",
      "-11.245547032765996\n",
      "A is invertible\n",
      "-1.1567776036036628\n",
      "A is invertible\n",
      "-0.1858077297854835\n",
      "A is invertible\n",
      "2.736164546974439\n",
      "A is invertible\n",
      "-0.24329977253670226\n",
      "A is invertible\n",
      "5.6126844375572675\n",
      "A is invertible\n",
      "0.24350803554065886\n",
      "A is invertible\n",
      "-1.9421987272884667\n",
      "A is invertible\n",
      "2.3513656032861037\n",
      "A is invertible\n",
      "14.825936661906237\n",
      "A is invertible\n",
      "1.1655042054509492\n",
      "A is invertible\n",
      "-0.6495150244735691\n",
      "A is invertible\n",
      "61.40828823667726\n",
      "A is invertible\n",
      "88.72328564284791\n",
      "A is invertible\n",
      "-0.5872643289659233\n",
      "A is invertible\n",
      "37.6246276329882\n",
      "A is invertible\n",
      "1.7357085184711778\n",
      "A is invertible\n",
      "0.768235203094509\n",
      "A is invertible\n",
      "-0.049470147643547575\n",
      "A is invertible\n",
      "1.4983668411338693\n",
      "A is invertible\n",
      "-0.18909506529116185\n",
      "A is invertible\n",
      "5.105171056351293\n",
      "A is invertible\n",
      "-0.14124921958982142\n",
      "A is invertible\n",
      "0.6375424117230298\n",
      "A is invertible\n",
      "3.1047945290296037\n",
      "A is invertible\n",
      "2.567297240871884\n",
      "A is invertible\n",
      "-0.20780868022207793\n",
      "A is invertible\n",
      "-12.43334039378929\n",
      "A is invertible\n",
      "1.0537639943080983\n",
      "A is invertible\n",
      "-0.2914277864268297\n",
      "A is invertible\n",
      "-1.3844319468963187\n",
      "A is invertible\n",
      "-1.3514015404974622\n",
      "A is invertible\n",
      "4.508963216681242\n",
      "A is invertible\n",
      "-5.479431235636073\n",
      "A is invertible\n",
      "19.823313238876683\n",
      "A is invertible\n",
      "0.8023487764829608\n",
      "A is invertible\n",
      "-8.807818249042676\n",
      "A is invertible\n",
      "-0.014099604164121855\n",
      "A is invertible\n",
      "-1.8837361632321288\n",
      "A is invertible\n",
      "-0.875698507742766\n",
      "A is invertible\n",
      "0.4369841107607946\n",
      "A is invertible\n",
      "250.65193212273007\n",
      "A is invertible\n",
      "-9.162137047520996\n",
      "A is invertible\n",
      "-3.59609497228801\n",
      "A is invertible\n",
      "96.35603745113856\n",
      "A is invertible\n",
      "4.718307790486558\n",
      "A is invertible\n",
      "-7.206808285472772\n",
      "A is invertible\n",
      "32.58312195864942\n",
      "A is invertible\n",
      "-48.0738698615578\n",
      "A is invertible\n",
      "-0.09470090774837506\n",
      "A is invertible\n",
      "-27.53342313266181\n",
      "A is invertible\n",
      "-2.333556907789937\n",
      "A is invertible\n",
      "-1.0087484159533502\n",
      "A is invertible\n",
      "0.5166799332206269\n",
      "A is invertible\n",
      "-109.12359719180871\n",
      "A is invertible\n",
      "4.236226089240061\n",
      "A is invertible\n",
      "2.114998422142039\n",
      "A is invertible\n",
      "-4.107089182182857\n",
      "A is invertible\n",
      "-17.59431612372929\n",
      "A is invertible\n",
      "-0.4048352163771022\n",
      "A is invertible\n",
      "-1.5761637464261435\n",
      "A is invertible\n",
      "-8.159074438646345\n",
      "A is invertible\n",
      "6.653791174985933\n",
      "A is invertible\n",
      "16.537129498373883\n",
      "A is invertible\n",
      "6.895710371832317\n",
      "A is invertible\n",
      "-17.310315965154842\n",
      "A is invertible\n",
      "0.0516180326957946\n",
      "A is invertible\n",
      "0.751849119082897\n",
      "A is invertible\n",
      "-3.4121814254969522\n",
      "A is invertible\n",
      "-3.991572782750902\n",
      "A is invertible\n",
      "6.313516521919037\n",
      "A is invertible\n",
      "4.779960268308578\n",
      "A is invertible\n",
      "-35.60081687383798\n",
      "A is invertible\n",
      "0.18263929984107108\n",
      "A is invertible\n",
      "1.7276267192573376\n",
      "A is invertible\n",
      "-15.87589242058348\n",
      "A is invertible\n",
      "0.9672426004135566\n",
      "A is invertible\n",
      "-4.920652787800839\n",
      "A is invertible\n",
      "-5.934484708063311\n",
      "A is invertible\n",
      "0.2642438811702669\n",
      "A is invertible\n",
      "28.509718089952017\n"
     ]
    }
   ],
   "source": [
    "#function to determine if a matrix is invertible\n",
    "def is_invertible(A):\n",
    "    #if the rank of the matrix is equal to the number of rows and columns\n",
    "    if np.linalg.matrix_rank(A)==A.shape[0]:\n",
    "        return True\n",
    "    else:\n",
    "        return False\n",
    "#function to determine if a matrix is singular\n",
    "def is_singular(A):\n",
    "    #if the rank of the matrix is equal to the number of rows and columns\n",
    "    if np.linalg.matrix_rank(A)==A.shape[0]:\n",
    "        return False\n",
    "    else:\n",
    "        return True\n",
    "for i in range(100):\n",
    "    m=np.random.randint(1,10)\n",
    "    A=np.random.randn(m,m)\n",
    "    if is_invertible(A):\n",
    "        print('A is invertible')\n",
    "        print(np.linalg.det(A))\n",
    "    if is_singular(A):\n",
    "        print('A is singular')\n"
   ]
  },
  {
   "attachments": {},
   "cell_type": "markdown",
   "metadata": {},
   "source": [
    "projection defenition:\n",
    "beta=(A.T@b)/(A.T@a)\n",
    "where A is a matrix, and b is a vector, and beta is is the point between the two A and b\n"
   ]
  },
  {
   "cell_type": "code",
   "execution_count": 12,
   "metadata": {},
   "outputs": [
    {
     "data": {
      "text/plain": [
       "2.2"
      ]
     },
     "execution_count": 12,
     "metadata": {},
     "output_type": "execute_result"
    }
   ],
   "source": [
    "\n",
    "a=np.array([[1,2],[3,4]])\n",
    "\n",
    "#print the projection of b onto the column space of a\n",
    "row1=a[1,:]\n",
    "row0=a[0,:]\n",
    "beta=row0.T@row1/(row0.T@row0)\n",
    "beta"
   ]
  },
  {
   "attachments": {},
   "cell_type": "markdown",
   "metadata": {},
   "source": [
    "projection in more general <br>\n",
    "A is a matrix <br>\n",
    "b is a vector between A and b<br>\n",
    "x is a point<br>\n",
    "A.T(b-Ax)=0<br>"
   ]
  },
  {
   "cell_type": "code",
   "execution_count": 17,
   "metadata": {},
   "outputs": [
    {
     "name": "stdout",
     "output_type": "stream",
     "text": [
      "[[-0.40023378]\n",
      " [ 0.04801998]\n",
      " [-0.26720114]\n",
      " [-0.03106602]] \n",
      "\n",
      "[[-0.40023378]\n",
      " [ 0.04801998]\n",
      " [-0.26720114]\n",
      " [-0.03106602]] \n",
      "\n",
      "[[-0.40023378]\n",
      " [ 0.04801998]\n",
      " [-0.26720114]\n",
      " [-0.03106602]] \n",
      "\n"
     ]
    }
   ],
   "source": [
    "m=6\n",
    "n=4\n",
    "#vector b\n",
    "b=np.random.randn(m,1)\n",
    "A=np.random.randn(m,n)\n",
    "#solve the projection problem using the pseudoinverse of A\n",
    "x=np.linalg.pinv(A)@b\n",
    "x1=np.linalg.inv(A.T@A)@A.T@b\n",
    "x2=np.linalg.solve(A.T@A,A.T@b)\n",
    "print(x,'\\n')\n",
    "\n",
    "print(x1,'\\n')\n",
    "print(x2,   '\\n')"
   ]
  },
  {
   "attachments": {},
   "cell_type": "markdown",
   "metadata": {},
   "source": [
    "the vector to be compute<br>\n",
    "w=[2,3]<br>\n",
    "the refrence vector<br>\n",
    "v=[4,0]<br>\n",
    "1. compute w-parallel to v<br>\n",
    "2. compute w-orthogonal to v <br>\n",
    "3. confirm results algebraically (sum to w orthgonal components)<br>\n",
    "plot all four vectors<br>"
   ]
  },
  {
   "cell_type": "code",
   "execution_count": 21,
   "metadata": {},
   "outputs": [
    {
     "name": "stdout",
     "output_type": "stream",
     "text": [
      "[0. 0.]\n",
      "0.0\n"
     ]
    },
    {
     "data": {
      "image/png": "[encoded data removed]",
      "text/plain": [
       "<Figure size 640x480 with 1 Axes>"
      ]
     },
     "metadata": {},
     "output_type": "display_data"
    }
   ],
   "source": [
    "w=np.array([2,3])\n",
    "v=np.array([4,0])\n",
    "beta=np.dot(v,w)/np.dot(v,v)\n",
    "w_par_v=beta*v\n",
    "w_perp_v=w-w_par_v\n",
    "print((w_par_v+w_perp_v)-w)\n",
    "print(np.dot(w_par_v,w_perp_v))\n",
    "\n",
    "plt.plot([0,w[0]],[0,w[1]],'r',linewidth=3)\n",
    "plt.plot([0,v[0]],[0,v[1]],'b',linewidth=3)\n",
    "plt.plot([0,w_par_v[0]],[0,w_par_v[1]],'r--',linewidth=3)\n",
    "plt.plot([0,w_perp_v[0]],[0,w_perp_v[1]],'r:',linewidth=3)\n",
    "plt.grid()\n",
    "plt.axis([-5,5,-5,5])\n",
    "plt.show()\n"
   ]
  },
  {
   "cell_type": "code",
   "execution_count": 5,
   "metadata": {},
   "outputs": [
    {
     "data": {
      "text/plain": [
       "47.593524037279074"
      ]
     },
     "execution_count": 5,
     "metadata": {},
     "output_type": "execute_result"
    }
   ],
   "source": [
    "n=2\n",
    "a=29.6*n\n",
    "b=52.7*n\n",
    "temp=a*a+b*b\n",
    "c=np.sqrt(temp)\n",
    "#convert to inches\n",
    "c=c/2.54\n",
    "c"
   ]
  },
  {
   "attachments": {},
   "cell_type": "markdown",
   "metadata": {},
   "source": [
    "implementation of gram-schmidt algorithm\n",
    "1. start with squre matrix\n",
    "2. check if Q@Q.T is equal to the I\n",
    "3. check for qr"
   ]
  },
  {
   "cell_type": "code",
   "execution_count": 13,
   "metadata": {},
   "outputs": [
    {
     "name": "stdout",
     "output_type": "stream",
     "text": [
      "[[1.00000000e+00 2.93773260e-16 6.12662717e-17 1.68541822e-16]\n",
      " [2.93773260e-16 1.00000000e+00 1.36951818e-16 7.13042310e-17]\n",
      " [6.12662717e-17 1.36951818e-16 1.00000000e+00 4.11143242e-17]\n",
      " [1.68541822e-16 7.13042310e-17 4.11143242e-17 1.00000000e+00]]\n"
     ]
    }
   ],
   "source": [
    "m=4\n",
    "n=2\n",
    "A=np.random.randn(m,m)\n",
    "\n",
    "#get the qr decomposition of A\n",
    "Q,R=np.linalg.qr(A)\n",
    "#compute the norm of the difference between A and Q@R\n",
    "print(Q@Q.T)\n"
   ]
  },
  {
   "cell_type": "code",
   "execution_count": null,
   "metadata": {},
   "outputs": [],
   "source": [
    "#test of inverse very large matrix\n",
    "m=2\n",
    "n=m\n",
    "A=np.random.randn(m,n)\n",
    "print(A)\n",
    "plt.imshow(A)\n",
    "#multiply A by scalar 10\n",
    "A=A*10\n",
    "Ainv=np.linalg.inv(A)\n",
    "Ainv2=np.linalg.pinv(A)\n",
    "print(A)\n",
    "print(Ainv)\n",
    "#plot the A matrix and the inverse\n",
    "\n",
    "\n",
    "# plt.imshow(Ainv)\n",
    "\n",
    "    \n",
    "plt.imshow(A)\n"
   ]
  },
  {
   "cell_type": "code",
   "execution_count": 34,
   "metadata": {},
   "outputs": [
    {
     "name": "stdout",
     "output_type": "stream",
     "text": [
      "0.9999999642105992\n"
     ]
    }
   ],
   "source": [
    "# [[ 3.96754678 14.38249894]\n",
    "#  [ 3.82256477 12.051023  ]]\n",
    "# [[-1.68192073  2.00731698]\n",
    "#  [ 0.5335025  -0.55373715]]\n",
    "a=3.96754678\n",
    "b=14.38249894\n",
    "c=-1.68192073\n",
    "d=0.5335025\n",
    "print(a*c+b*d)"
   ]
  },
  {
   "cell_type": "code",
   "execution_count": 2,
   "metadata": {},
   "outputs": [
    {
     "name": "stdout",
     "output_type": "stream",
     "text": [
      "[[2.125]] 2.125\n"
     ]
    }
   ],
   "source": [
    "# data\n",
    "data = np.array([[-4,0,-3,1,2,8,5,8]]).T\n",
    "N    = len(data)\n",
    "\n",
    "# design matrix\n",
    "X = np.ones([N,1])\n",
    "# fit the model\n",
    "b = np.linalg.solve(X.T@X,X.T@data)\n",
    "\n",
    "# compare against the mean\n",
    "m = np.mean(data)\n",
    "\n",
    "# print the results\n",
    "print(b,m)"
   ]
  },
  {
   "cell_type": "code",
   "execution_count": 3,
   "metadata": {},
   "outputs": [
    {
     "data": {
      "image/png": "[encoded data removed]",
      "text/plain": [
       "<Figure size 640x480 with 1 Axes>"
      ]
     },
     "metadata": {},
     "output_type": "display_data"
    }
   ],
   "source": [
    "# compute the model-predicted values\n",
    "yHat = X@b\n",
    "\n",
    "# plot data and model prediction\n",
    "plt.plot(np.arange(1,N+1),data,'bs-',label='Data')\n",
    "plt.plot(np.arange(1,N+1),yHat,'ro--',label='Model pred.')\n",
    "\n",
    "plt.legend()\n",
    "plt.show()"
   ]
  },
  {
   "cell_type": "code",
   "execution_count": 5,
   "metadata": {},
   "outputs": [
    {
     "data": {
      "image/png": "[encoded data removed]",
      "text/plain": [
       "<Figure size 640x480 with 1 Axes>"
      ]
     },
     "metadata": {},
     "output_type": "display_data"
    },
    {
     "name": "stdout",
     "output_type": "stream",
     "text": [
      "matan\n"
     ]
    }
   ],
   "source": [
    "# new design matrix\n",
    "X = np.array([np.arange(0,N)]).T\n",
    "\n",
    "# fit the model\n",
    "b = np.linalg.solve(X.T@X,X.T@data)\n",
    "\n",
    "# compute the model-predicted values\n",
    "yHat = X@b\n",
    "\n",
    "# plot data and model prediction\n",
    "plt.plot(np.arange(1,N+1),data,'bs-',label='Data')\n",
    "plt.plot(np.arange(1,N+1),yHat,'ro--',label='Model pred.')\n",
    "\n",
    "plt.legend()\n",
    "plt.show()\n",
    "print(\"matan\")"
   ]
  }
 ],
 "metadata": {
  "kernelspec": {
   "display_name": "base",
   "language": "python",
   "name": "python3"
  },
  "language_info": {
   "codemirror_mode": {
    "name": "ipython",
    "version": 3
   },
   "file_extension": ".py",
   "mimetype": "text/x-python",
   "name": "python",
   "nbconvert_exporter": "python",
   "pygments_lexer": "ipython3",
   "version": "3.9.13"
  },
  "orig_nbformat": 4,
  "vscode": {
   "interpreter": {
    "hash": "3f5489b7472e0db5a0aca474269aa1efb9aed33b7cc21a8c650b51c14ef83b94"
   }
  }
 },
 "nbformat": 4,
 "nbformat_minor": 2
}
