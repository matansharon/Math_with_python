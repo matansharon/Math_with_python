{
 "cells": [
  {
   "cell_type": "code",
   "execution_count": 41,
   "metadata": {},
   "outputs": [],
   "source": [
    "import bs4\n",
    "\n"
   ]
  },
  {
   "cell_type": "code",
   "execution_count": null,
   "metadata": {},
   "outputs": [],
   "source": [
    "from bs4 import BeautifulSoup\n",
    "import requests\n",
    "\n",
    "# HTML From File\n",
    "with open(\"index.html\", \"r\") as f:\n",
    "\tdoc = BeautifulSoup(f, \"html.parser\")\n",
    "\n",
    "tags = doc.find_all(\"p\")[0]\n",
    "\n",
    "# print(doc.prettify())\n",
    "\n",
    "# HTML From Website\n",
    "url = \"https://www.newegg.ca/gigabyte-geforce-rtx-3080-ti-gv-n308tgaming-oc-12gd/p/N82E16814932436?Description=3080&cm_re=3080-_-14-932-436-_-Product\"\n",
    "result = requests.get(url)\n",
    "result.text\n",
    "# doc = BeautifulSoup(result.text, \"html.parser\")\n",
    "\n",
    "# prices = doc.find_all(text=\"$\")\n",
    "# parent = prices[0].parent\n",
    "# strong = parent.find(\"strong\")\n",
    "# print(strong.string)"
   ]
  }
 ],
 "metadata": {
  "kernelspec": {
   "display_name": "base",
   "language": "python",
   "name": "python3"
  },
  "language_info": {
   "codemirror_mode": {
    "name": "ipython",
    "version": 3
   },
   "file_extension": ".py",
   "mimetype": "text/x-python",
   "name": "python",
   "nbconvert_exporter": "python",
   "pygments_lexer": "ipython3",
   "version": "3.9.13"
  },
  "orig_nbformat": 4,
  "vscode": {
   "interpreter": {
    "hash": "3f5489b7472e0db5a0aca474269aa1efb9aed33b7cc21a8c650b51c14ef83b94"
   }
  }
 },
 "nbformat": 4,
 "nbformat_minor": 2
}
