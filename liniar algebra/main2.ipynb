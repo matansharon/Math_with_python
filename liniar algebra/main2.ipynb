{
 "cells": [
  {
   "cell_type": "code",
   "execution_count": 1,
   "metadata": {},
   "outputs": [],
   "source": [
    "import numpy as np\n",
    "import matplotlib.pyplot as plt\n",
    "import pandas as pd\n",
    "import sympy as sp\n",
    "from random import randint"
   ]
  },
  {
   "attachments": {},
   "cell_type": "markdown",
   "metadata": {},
   "source": [
    "coding challenge at lecture 12:\n",
    "1.create 2 4x6 matrics of random numbers\n",
    "2. use a for loop to compute thr dot products between corrsponding columns"
   ]
  },
  {
   "cell_type": "code",
   "execution_count": null,
   "metadata": {},
   "outputs": [],
   "source": [
    "n=4\n",
    "m=6\n",
    "#create a 4 on 6 matrix\n",
    "a=np.random.rand(n,m)   \n",
    "b=np.random.rand(n,m)\n",
    "print(a)\n",
    "print(a[:,0])\n",
    "#create an empty matrix\n",
    "c=np.zeros(6)\n",
    "for i in range(m):\n",
    "    c[i]=np.dot(a[:,i],b[:,i])\n",
    "c\n",
    "    "
   ]
  },
  {
   "cell_type": "markdown",
   "metadata": {},
   "source": [
    "1. generate 2 100-elemnts row vector. compute a with b and then b with a.\n",
    "2. generate 2 2-elemnts integer row vector. compute a with b and then b with"
   ]
  },
  {
   "cell_type": "code",
   "execution_count": null,
   "metadata": {},
   "outputs": [],
   "source": [
    "#generate a 100 element vector\n",
    "x=np.random.randn(100)\n",
    "y=np.random.randn(100)\n",
    "#write the for loop in one line\n",
    "# x=np.array([x[i]*100 for i in range(100)])\n",
    "# b=np.array([b[i]*100 for i in range(100)])\n",
    "plt.plot(x,'o')\n",
    "plt.plot(y,'x')\n",
    "plt.plot(np.dot(x,y),'v')"
   ]
  },
  {
   "cell_type": "code",
   "execution_count": null,
   "metadata": {},
   "outputs": [],
   "source": [
    "v1=np.array([2,4,-3])\n",
    "v2=np.array([0,-3,-3])\n",
    "ang=np.arccos(np.dot(v1,v2)/(np.linalg.norm(v1)*np.linalg.norm(v2)))\n",
    "\n",
    "#draw them\n",
    "fig=plt.figure()\n",
    "ax=fig.gca(projection='3d')\n",
    "ax.plot([0,v1[0]],[0,v1[1]],[0,v1[2]],'r')\n",
    "ax.plot([0,v2[0]],[0,v2[1]],[0,v2[2]],'b')\n",
    "ax.plot([0,v1[0]+v2[0]],[0,v1[1]+v2[1]],[0,v1[2]+v2[2]],'g')\n",
    "ax.set_xlabel('x')\n",
    "ax.set_ylabel('y')\n",
    "ax.set_zlabel('z')\n",
    "ax.set_xlim(-6,6)\n",
    "ax.set_ylim(-6,6)\n",
    "ax.set_zlim(-6,6)\n",
    "plt.show()\n"
   ]
  },
  {
   "cell_type": "markdown",
   "metadata": {},
   "source": [
    "code chalenge lecture 16"
   ]
  },
  {
   "cell_type": "code",
   "execution_count": null,
   "metadata": {},
   "outputs": [],
   "source": [
    "#proof the cauchy schwarz inequality\n",
    "a=np.random.rand(100)\n",
    "b=np.random.rand(100)\n",
    "for i in range(100):\n",
    "    a[i]*=100\n",
    "np.abs(np.dot(a,b))\n",
    "\n"
   ]
  },
  {
   "cell_type": "code",
   "execution_count": null,
   "metadata": {},
   "outputs": [],
   "source": [
    "#obtuse angle\n",
    "a=[1,-2]\n",
    "b=[2,3]\n",
    "c=[0,2]\n",
    "#calculate the angle between a and b and a and c and b and c and show the result in degrees\n",
    "ang1=np.arccos(np.dot(a,b)/(np.linalg.norm(a)*np.linalg.norm(b)))*180/np.pi\n",
    "ang2=np.arccos(np.dot(a,c)/(np.linalg.norm(a)*np.linalg.norm(c)))*180/np.pi\n",
    "ang3=np.arccos(np.dot(b,c)/(np.linalg.norm(b)*np.linalg.norm(c)))*180/np.pi\n",
    "print(ang1,ang2,ang3)"
   ]
  },
  {
   "cell_type": "markdown",
   "metadata": {},
   "source": [
    "1. create 2 random (R4) vectors\n",
    "2. comput the length of each vector and the magnitude of their dot product\n",
    "3. compute the unit vector of each vector \n",
    "4. compute the magnitude of each vector dot product"
   ]
  },
  {
   "cell_type": "code",
   "execution_count": null,
   "metadata": {},
   "outputs": [],
   "source": [
    "n=4\n",
    "v1=50*(np.random.rand(n))\n",
    "v2=50*(np.random.rand(n))\n",
    "print(v1,v2)\n",
    "#cunoute the length of v1 and v2\n",
    "v1L=np.dot(v1,v1)**0.5\n",
    "v2L=np.dot(v2,v2)**0.5\n",
    "v1v2m=np.dot(v1L,v2L)\n",
    "\n",
    "print(v1L,v2L,v1v2m)\n",
    "v1mu=1/v1L\n",
    "v2mu=1/v2L\n",
    "print(v1mu,v2mu)\n",
    "print(v1mu*v1L,v2mu*v2L)"
   ]
  },
  {
   "cell_type": "code",
   "execution_count": null,
   "metadata": {},
   "outputs": [],
   "source": [
    "arrays=[]\n",
    "for i in range(5):\n",
    "    a=randint(1,10)\n",
    "    b=randint(1,10)\n",
    "    if a>b:\n",
    "        temp=a\n",
    "        a=b\n",
    "        b=temp\n",
    "    m=np.random.randint(10,20,size=(a,b))\n",
    "    arrays.append(m)\n"
   ]
  },
  {
   "cell_type": "code",
   "execution_count": null,
   "metadata": {},
   "outputs": [],
   "source": [
    "r={}\n",
    "#find all the matrices with the same size\n",
    "for i in range(len(arrays)):\n",
    "    for j in range(i+1,len(arrays)):\n",
    "        if arrays[i].shape==arrays[j].shape:\n",
    "            r[i,j]=arrays[i]\n",
    "print(arrays[0],arrays[0]*2)\n",
    "    \n"
   ]
  },
  {
   "cell_type": "markdown",
   "metadata": {},
   "source": [
    "code challenge lecture 35\n",
    "1.test for some MxN matricies whether s(A+B)== sA +sB "
   ]
  },
  {
   "cell_type": "code",
   "execution_count": null,
   "metadata": {},
   "outputs": [],
   "source": [
    "A=np.random.randn(4,3)\n",
    "B=np.random.randn(4,3)\n",
    "c=int(np.random.randn()*100)\n",
    "res1=c*(A+B)\n",
    "res2=c*A+c*B\n",
    "print(A)\n",
    "print('-------')\n",
    "print(A)"
   ]
  },
  {
   "attachments": {},
   "cell_type": "markdown",
   "metadata": {},
   "source": [
    "code challenge 39\n",
    "1. determine whether the trace of tr(A) +tr(B) is equal to the trace of tr(A+B)\n",
    "2. generate random scalar a and determine the relationship of tr(a*A) and tr(a*B)"
   ]
  },
  {
   "cell_type": "code",
   "execution_count": null,
   "metadata": {},
   "outputs": [],
   "source": [
    "m=randint(0,10)\n",
    "n=randint(0,10)\n",
    "print(m,n)\n",
    "A=np.random.randn(6,3)\n",
    "B=np.random.randn(3,4)\n",
    "a=randint(1,10)\n",
    "# trA=np.trace(A)\n",
    "# trB=np.trace(B)\n",
    "# trAB=np.trace(A+B)\n",
    "# print(trA,trB,trA+trB,trAB)\n",
    "# traA=np.trace(a*A)\n",
    "\n",
    "# print(traA,a*trA)\n",
    "\n",
    "print(A)\n",
    "print('-------')\n",
    "print(B)\n",
    "print('-------')\n",
    "mul=np.matmul(A,B)\n",
    "\n",
    "print(mul,mul.shape)"
   ]
  },
  {
   "attachments": {},
   "cell_type": "markdown",
   "metadata": {},
   "source": [
    "code challenge 43:\n",
    "1. generate 2 matrices A and B\n",
    "2. build the product matrix layer-wise (for loop)\n",
    "3. implement the matrix multiplication directly\n",
    "4. compute the results"
   ]
  },
  {
   "cell_type": "code",
   "execution_count": null,
   "metadata": {},
   "outputs": [],
   "source": [
    "m=randint(1,10)\n",
    "n=randint(1,10)\n",
    "A=np.random.randn(m,n)\n",
    "B=np.random.randn(n,m)\n",
    "#build the product matrix layer-wise (for loop)\n",
    "C=np.zeros((m,m))\n",
    "for i in range(n):\n",
    "    C+=np.outer(A[:,i],B[i,:])\n",
    "D=A@B\n",
    "print(C==D)"
   ]
  },
  {
   "cell_type": "code",
   "execution_count": null,
   "metadata": {},
   "outputs": [],
   "source": [
    "A=np.array([[1,0,0],[0,10,0],[0,0,100]])\n",
    "D=np.random.randn(3,3)\n",
    "print(D)\n",
    "D@A"
   ]
  },
  {
   "attachments": {},
   "cell_type": "markdown",
   "metadata": {},
   "source": [
    "code challenge 49:\n",
    "1."
   ]
  },
  {
   "cell_type": "code",
   "execution_count": null,
   "metadata": {},
   "outputs": [],
   "source": [
    "#generate a circle of dots with radius 1\n",
    "n=100\n",
    "theta=np.linspace(0,2*np.pi,n)\n",
    "x=np.cos(theta)\n",
    "y=np.sin(theta)\n",
    "plt.plot(x,y,'o')\n",
    "#create 2x2 matrix \n",
    "A=np.array([[1,2],[3,4]])\n",
    "#multiply the matrix with the coordinates\n",
    "B=np.array([x,y])\n",
    "C=np.matmul(A,B)\n",
    "plt.plot(C[0],C[1],'x')\n",
    "#try with various matrices\n",
    "A=np.array([[1,2],[3,4]])\n",
    "B=np.array([[1,2],[3,4]])\n",
    "C=np.matmul(A,B)\n",
    "print(C)\n",
    "#try with singular matrix\n",
    "A=np.array([[1,2],[3,4]])\n",
    "B=np.array([[1,2],[3,4]])\n",
    "C=np.matmul(A,B)\n",
    "plt.show()"
   ]
  },
  {
   "attachments": {},
   "cell_type": "markdown",
   "metadata": {},
   "source": [
    "code challenge 53:\n",
    "1. create two symetric matrices\n",
    "2. cmpute sum,multiplication, and hadamard multiplication\n",
    "3. determine if the result is still symmetric"
   ]
  },
  {
   "cell_type": "code",
   "execution_count": null,
   "metadata": {},
   "outputs": [],
   "source": [
    "#create two symetric matrices\n",
    "m=3\n",
    "A=np.random.randn(m,m)\n",
    "ATA=A.T@A\n",
    "B=np.random.randn(m,m)\n",
    "BTB=B.T@B\n",
    "#cmpute sum,multiplication, and hadamard multiplication\n",
    "C=ATA+BTB\n",
    "D=ATA@BTB\n",
    "E=ATA*BTB\n",
    "print(C)\n",
    "print(D)\n",
    "print(E)\n"
   ]
  },
  {
   "attachments": {},
   "cell_type": "markdown",
   "metadata": {},
   "source": [
    "\n",
    "1. create 2 new matrix, one is full matrix, and the other is diagonal matrix\n",
    "2. multiply each matrix by itself,"
   ]
  },
  {
   "cell_type": "code",
   "execution_count": null,
   "metadata": {},
   "outputs": [],
   "source": [
    "m=4\n",
    "A=np.random.randn(m,m)\n",
    "#create a digonal matrix with the diagonal elements of A\n",
    "B=np.diag(np.diag(A))\n",
    "print(A),print()\n",
    "print(A@A),print()\n",
    "print(A*A),print()\n",
    "# print(B),print()\n",
    "# print(B@B),print()\n",
    "# print(B*B),print()"
   ]
  },
  {
   "cell_type": "code",
   "execution_count": null,
   "metadata": {},
   "outputs": [],
   "source": [
    "#create symetric matrix\n",
    "m=4\n",
    "A=np.random.randn(m,m)\n",
    "ATA=np.matmul(A,A.T)\n",
    "print(ATA)\n",
    "#create  a skew-symetric matrix\n",
    "B=np.array([[0,1,-1],[-1,0,1],[1,-1,0]])\n",
    "print(B)\n",
    "#create a random matrix\n",
    "C=np.random.randn(m,m)\n",
    "print(C)\n",
    "#mix the matrices A,B\n",
    "# D=ATA@B\n",
    "# print(D)"
   ]
  },
  {
   "cell_type": "code",
   "execution_count": null,
   "metadata": {},
   "outputs": [],
   "source": [
    "#create a 50x50 matrix with random numbers\n",
    "A=np.random.randn(50,80)\n",
    "rank=np.linalg.matrix_rank(A)\n",
    "rank\n",
    "#create a 9 degree random polynomial\n",
    "\n",
    "\n",
    "#find the roots of the polynomial\n",
    "r=np.roots(p)\n",
    "print(p)\n",
    "#evaluate the polynomial at 50 points\n",
    "x=np.linspace(-1,1,50)\n",
    "y=p(x)\n",
    "#plot the polynomial\n",
    "plt.plot(x,y)\n",
    "#plot the polynomial with noise\n",
    "y=y+np.random.randn(50)\n",
    "plt.plot(x,y,'o')\n",
    "#fit the polynomial to the noisy data\n",
    "pfit=np.polyfit(x,y,9)\n",
    "#evaluate the fitted polynomial at 50 points\n",
    "yfit=np.polyval(pfit,x)\n",
    "#plot the fitted polynomial\n",
    "plt.plot(x,yfit)\n",
    "plt.show()"
   ]
  },
  {
   "cell_type": "code",
   "execution_count": null,
   "metadata": {},
   "outputs": [],
   "source": [
    "A=np.random.randn(10,4)\n",
    "B=np.random.randn(4,10)\n",
    "C=A@B\n",
    "print(C.shape)\n",
    "print(np.linalg.matrix_rank(C))\n"
   ]
  },
  {
   "cell_type": "code",
   "execution_count": null,
   "metadata": {},
   "outputs": [],
   "source": [
    "def generalize_matrix(M,N,r):\n",
    "    A=np.random.randn(M,N)\n",
    "    B=np.random.randn(N,M)\n",
    "    C=A@B\n",
    "    return C"
   ]
  },
  {
   "cell_type": "code",
   "execution_count": null,
   "metadata": {},
   "outputs": [],
   "source": [
    "m=2\n",
    "n=5\n",
    "A=np.random.randn(m,n)\n",
    "B=np.random.randn(m,n)\n",
    "AtA=A.T@A\n",
    "BtB=B.T@B\n",
    "r_A=np.linalg.matrix_rank(A)\n",
    "r_B=np.linalg.matrix_rank(B)\n",
    "r_AtA=np.linalg.matrix_rank(AtA)\n",
    "r_BtB=np.linalg.matrix_rank(BtB)\n",
    "print(r_A,r_B,r_AtA,r_BtB)"
   ]
  },
  {
   "cell_type": "code",
   "execution_count": null,
   "metadata": {},
   "outputs": [],
   "source": [
    "#create a column vector\n",
    "x=np.array([[-3],[1],[5]])\n",
    "mt=np.array([[3,0],[5,2],[1,2]])\n",
    "#detemine whether the vector is in the column space of the matrix\n",
    "# print(np.linalg.matrix_rank(mt))\n",
    "# print(np.linalg.matrix_rank(np.hstack((mt,x))))\n",
    "#determine whether the vector is in the row space of the matrix\n",
    "# print(np.linalg.matrix_rank(mt.T))\n",
    "# print(np.linalg.matrix_rank(np.vstack((mt.T,x.T))))\n",
    "x2=np.array([[1],[7],[3]])\n",
    "mt2=np.array([[0,0],[5,2],[1,2]])\n",
    "print(np.linalg.matrix_rank(mt2))\n",
    "print(np.linalg.matrix_rank(np.hstack((mt2,x2))))\n",
    "print(mt2.T@x2)\n",
    "\n"
   ]
  },
  {
   "attachments": {},
   "cell_type": "markdown",
   "metadata": {},
   "source": [
    "code challenge 85:\n",
    "do a RREF of diffrant matrices (random)\n",
    "1. squre\n",
    "2. rectangles (wide,tall)\n",
    "3. linear dependencies"
   ]
  },
  {
   "cell_type": "code",
   "execution_count": null,
   "metadata": {},
   "outputs": [],
   "source": [
    "m=3\n",
    "n=6\n",
    "A=sp.Matrix(np.random.randn(m,m))\n",
    "B=sp.Matrix(np.random.randn(m,n))\n",
    "C=sp.Matrix(np.random.randn(n,m))\n",
    "rref_a=A.rref()\n",
    "rref_b=B.rref()\n",
    "rref_c=C.rref()\n",
    "print(np.array(A))\n",
    "print('*'*20)\n",
    "print(np.array(rref_a[0]))\n",
    "print('-----------------------------')\n",
    "print(np.array(B))\n",
    "print('*'*20)\n",
    "print(np.array(rref_b[0]))\n",
    "print('-----------------------------')\n",
    "print(np.array(C))\n",
    "print('*'*20)\n",
    "print(np.array(rref_c[0]))"
   ]
  },
  {
   "cell_type": "code",
   "execution_count": null,
   "metadata": {},
   "outputs": [],
   "source": [
    "A=np.random.randn(2,2)\n",
    "detA=np.linalg.det(A)\n",
    "print(detA)\n",
    "B=np.array([[1,2],[3,6]])\n",
    "print(np.linalg.det(B))\n",
    "m=40\n",
    "C=np.random.randn(m,m)\n",
    "#make a linearly dependent matrix\n",
    "C[2,:]=C[0,:]+C[1,:]\n",
    "#print the rank of the matrix C\n",
    "print(np.linalg.matrix_rank(C))\n",
    "print(np.linalg.det(C))\n"
   ]
  },
  {
   "cell_type": "code",
   "execution_count": null,
   "metadata": {},
   "outputs": [],
   "source": [
    "A=np.random.randn(6,6)\n",
    "print(np.linalg.det(A))\n",
    "#swap the first and second rows\n",
    "A[[0,1]]=A[[1,0]]\n",
    "print(np.linalg.det(A))\n",
    "#swap the third and forth row\n",
    "A[[2,3]]=A[[3,2]]\n",
    "print(np.linalg.det(A))\n",
    "\n",
    "\n"
   ]
  },
  {
   "cell_type": "code",
   "execution_count": null,
   "metadata": {},
   "outputs": [],
   "source": [
    "#create hang man game\n",
    "import random\n",
    "import string\n",
    "#create a list of words \n",
    "words=['apple','banana','orange','grape','watermelon','strawberry','pineapple','mango','kiwi','pear','peach','cherry','blueberry','raspberry','lemon','lime','coconut','avocado','tomato','cucumber','carrot','potato','pepper','onion','garlic','celery','broccoli','cauliflower','spinach','lettuce','asparagus','mushroom','corn','zucchini','cabbage','bean','pea','eggplant','sweet potato','yam','pumpkin','squash','radish','turnip','ginger','garlic','honeydew','melon','grapefruit','pomegranate','apricot','plum','nectarine','fig','date','olive','artichoke','sweet pepper','chili pepper','okra','kale','collard greens','brussel sprouts','mustard greens','turnip greens','rutabaga','turnip','beet','cantaloupe','carambola','durian','jackfruit','lychee','mangosteen','star fruit','tamarind','water chestnut','yautia','plantain','taro','sweet corn','sweet pea','sweet potato','sweet pepper','sweet onion','sweet basil','sweet cherry','sweet pea','sweet']\n",
    "#choose a random word from the list\n",
    "word=random.choice(words)\n",
    "#convert the word to a list\n",
    "word=list(word)\n",
    "#convert the word to a seT\n",
    "word_set=set(word)\n",
    "\n"
   ]
  },
  {
   "attachments": {},
   "cell_type": "markdown",
   "metadata": {},
   "source": [
    "code challenge 101\n",
    "1. create diagonal matrix\n",
    "2. compute the inverse of the diagonal matrix\n"
   ]
  },
  {
   "cell_type": "code",
   "execution_count": null,
   "metadata": {},
   "outputs": [],
   "source": [
    "# m>n for left inverse,\n",
    "# m<n for right inverse\n",
    "#if i swip the m and n here all the code is broken\n",
    "m = 3\n",
    "n = 6\n",
    "\n",
    "# create matrices\n",
    "A = np.random.randn(m,n)\n",
    "AtA = A.T@A\n",
    "AAt = A@A.T\n",
    "\n",
    "# inspect ranks\n",
    "print('Shape of A^TA:', np.shape(AtA) )\n",
    "print('Rank of A^TA:', np.linalg.matrix_rank(AtA) )\n",
    "print('Shape of AA^T:', np.shape(AAt) )\n",
    "print('Rank of AA^T:', np.linalg.matrix_rank(AAt) ) \n",
    "\n",
    "# left inverse\n",
    "Aleft = np.linalg.inv(AtA)@A.T\n",
    "\n",
    "# right inverse\n",
    "Aright = A.T@np.linalg.inv(AAt)\n",
    "\n",
    "# now test!\n",
    "I_left  = Aleft  @ A\n",
    "I_right = A @ Aright\n",
    "\n",
    "print(I_left), print(' ')\n",
    "print(I_right), print(' ')\n",
    "\n",
    "\n",
    "# and then test using the inverse function\n",
    "AtA_inv = np.linalg.inv(AtA)\n",
    "I_AtA   = AtA_inv @ AtA\n",
    "\n",
    "AAt_inv = np.linalg.inv(AAt)\n",
    "I_AAt   = AAt_inv @ AAt\n",
    "\n",
    "print(I_AtA), print(' ')\n",
    "print(I_AAt)"
   ]
  },
  {
   "cell_type": "code",
   "execution_count": null,
   "metadata": {},
   "outputs": [],
   "source": [
    "#function to determine if a matrix is invertible\n",
    "def is_invertible(A):\n",
    "    #if the rank of the matrix is equal to the number of rows and columns\n",
    "    if np.linalg.matrix_rank(A)==A.shape[0]:\n",
    "        return True\n",
    "    else:\n",
    "        return False\n",
    "#function to determine if a matrix is singular\n",
    "def is_singular(A):\n",
    "    #if the rank of the matrix is equal to the number of rows and columns\n",
    "    if np.linalg.matrix_rank(A)==A.shape[0]:\n",
    "        return False\n",
    "    else:\n",
    "        return True\n",
    "for i in range(100):\n",
    "    m=np.random.randint(1,10)\n",
    "    A=np.random.randn(m,m)\n",
    "    if is_invertible(A):\n",
    "        print('A is invertible')\n",
    "        print(np.linalg.det(A))\n",
    "    if is_singular(A):\n",
    "        print('A is singular')\n"
   ]
  },
  {
   "attachments": {},
   "cell_type": "markdown",
   "metadata": {},
   "source": [
    "projection defenition:\n",
    "beta=(A.T@b)/(A.T@a)\n",
    "where A is a matrix, and b is a vector, and beta is is the point between the two A and b\n"
   ]
  },
  {
   "cell_type": "code",
   "execution_count": null,
   "metadata": {},
   "outputs": [],
   "source": [
    "\n",
    "a=np.array([[1,2],[3,4]])\n",
    "\n",
    "#print the projection of b onto the column space of a\n",
    "row1=a[1,:]\n",
    "row0=a[0,:]\n",
    "beta=row0.T@row1/(row0.T@row0)\n",
    "beta"
   ]
  },
  {
   "attachments": {},
   "cell_type": "markdown",
   "metadata": {},
   "source": [
    "projection in more general <br>\n",
    "A is a matrix <br>\n",
    "b is a vector between A and b<br>\n",
    "x is a point<br>\n",
    "A.T(b-Ax)=0<br>"
   ]
  },
  {
   "cell_type": "code",
   "execution_count": null,
   "metadata": {},
   "outputs": [],
   "source": [
    "m=6\n",
    "n=4\n",
    "#vector b\n",
    "b=np.random.randn(m,1)\n",
    "A=np.random.randn(m,n)\n",
    "#solve the projection problem using the pseudoinverse of A\n",
    "x=np.linalg.pinv(A)@b\n",
    "x1=np.linalg.inv(A.T@A)@A.T@b\n",
    "x2=np.linalg.solve(A.T@A,A.T@b)\n",
    "print(x,'\\n')\n",
    "\n",
    "print(x1,'\\n')\n",
    "print(x2,   '\\n')"
   ]
  },
  {
   "attachments": {},
   "cell_type": "markdown",
   "metadata": {},
   "source": [
    "the vector to be compute<br>\n",
    "w=[2,3]<br>\n",
    "the refrence vector<br>\n",
    "v=[4,0]<br>\n",
    "1. compute w-parallel to v<br>\n",
    "2. compute w-orthogonal to v <br>\n",
    "3. confirm results algebraically (sum to w orthgonal components)<br>\n",
    "plot all four vectors<br>"
   ]
  },
  {
   "cell_type": "code",
   "execution_count": null,
   "metadata": {},
   "outputs": [],
   "source": [
    "w=np.array([2,3])\n",
    "v=np.array([4,0])\n",
    "beta=np.dot(v,w)/np.dot(v,v)\n",
    "w_par_v=beta*v\n",
    "w_perp_v=w-w_par_v\n",
    "print((w_par_v+w_perp_v)-w)\n",
    "print(np.dot(w_par_v,w_perp_v))\n",
    "\n",
    "plt.plot([0,w[0]],[0,w[1]],'r',linewidth=3)\n",
    "plt.plot([0,v[0]],[0,v[1]],'b',linewidth=3)\n",
    "plt.plot([0,w_par_v[0]],[0,w_par_v[1]],'r--',linewidth=3)\n",
    "plt.plot([0,w_perp_v[0]],[0,w_perp_v[1]],'r:',linewidth=3)\n",
    "plt.grid()\n",
    "plt.axis([-5,5,-5,5])\n",
    "plt.show()\n"
   ]
  },
  {
   "cell_type": "code",
   "execution_count": null,
   "metadata": {},
   "outputs": [],
   "source": [
    "n=2\n",
    "a=29.6*n\n",
    "b=52.7*n\n",
    "temp=a*a+b*b\n",
    "c=np.sqrt(temp)\n",
    "#convert to inches\n",
    "c=c/2.54\n",
    "c"
   ]
  },
  {
   "attachments": {},
   "cell_type": "markdown",
   "metadata": {},
   "source": [
    "implementation of gram-schmidt algorithm\n",
    "1. start with squre matrix\n",
    "2. check if Q@Q.T is equal to the I\n",
    "3. check for qr"
   ]
  },
  {
   "cell_type": "code",
   "execution_count": null,
   "metadata": {},
   "outputs": [],
   "source": [
    "m=4\n",
    "n=2\n",
    "A=np.random.randn(m,m)\n",
    "\n",
    "#get the qr decomposition of A\n",
    "Q,R=np.linalg.qr(A)\n",
    "#compute the norm of the difference between A and Q@R\n",
    "print(Q@Q.T)\n"
   ]
  },
  {
   "cell_type": "code",
   "execution_count": null,
   "metadata": {},
   "outputs": [],
   "source": [
    "#test of inverse very large matrix\n",
    "m=2\n",
    "n=m\n",
    "A=np.random.randn(m,n)\n",
    "print(A)\n",
    "plt.imshow(A)\n",
    "#multiply A by scalar 10\n",
    "A=A*10\n",
    "Ainv=np.linalg.inv(A)\n",
    "Ainv2=np.linalg.pinv(A)\n",
    "print(A)\n",
    "print(Ainv)\n",
    "#plot the A matrix and the inverse\n",
    "\n",
    "\n",
    "# plt.imshow(Ainv)\n",
    "\n",
    "    \n",
    "plt.imshow(A)\n"
   ]
  },
  {
   "cell_type": "code",
   "execution_count": null,
   "metadata": {},
   "outputs": [],
   "source": [
    "# [[ 3.96754678 14.38249894]\n",
    "#  [ 3.82256477 12.051023  ]]\n",
    "# [[-1.68192073  2.00731698]\n",
    "#  [ 0.5335025  -0.55373715]]\n",
    "a=3.96754678\n",
    "b=14.38249894\n",
    "c=-1.68192073\n",
    "d=0.5335025\n",
    "print(a*c+b*d)"
   ]
  },
  {
   "cell_type": "code",
   "execution_count": null,
   "metadata": {},
   "outputs": [],
   "source": [
    "# data\n",
    "data = np.array([[-4,0,-3,1,2,8,5,8]]).T\n",
    "N    = len(data)\n",
    "\n",
    "# design matrix\n",
    "X = np.ones([N,1])\n",
    "# fit the model\n",
    "b = np.linalg.solve(X.T@X,X.T@data)\n",
    "\n",
    "# compare against the mean\n",
    "m = np.mean(data)\n",
    "\n",
    "# print the results\n",
    "print(b,m)"
   ]
  },
  {
   "cell_type": "code",
   "execution_count": null,
   "metadata": {},
   "outputs": [],
   "source": [
    "# compute the model-predicted values\n",
    "yHat = X@b\n",
    "\n",
    "# plot data and model prediction\n",
    "plt.plot(np.arange(1,N+1),data,'bs-',label='Data')\n",
    "plt.plot(np.arange(1,N+1),yHat,'ro--',label='Model pred.')\n",
    "\n",
    "plt.legend()\n",
    "plt.show()"
   ]
  },
  {
   "cell_type": "code",
   "execution_count": null,
   "metadata": {},
   "outputs": [],
   "source": [
    "# new design matrix\n",
    "X = np.array([np.arange(0,N)]).T\n",
    "\n",
    "# fit the model\n",
    "b = np.linalg.solve(X.T@X,X.T@data)\n",
    "\n",
    "# compute the model-predicted values\n",
    "yHat = X@b\n",
    "\n",
    "# plot data and model prediction\n",
    "plt.plot(np.arange(1,N+1),data,'bs-',label='Data')\n",
    "plt.plot(np.arange(1,N+1),yHat,'ro--',label='Model pred.')\n",
    "\n",
    "plt.legend()\n",
    "plt.show()\n",
    "print(\"matan\")"
   ]
  },
  {
   "cell_type": "code",
   "execution_count": null,
   "metadata": {},
   "outputs": [],
   "source": [
    "\n",
    "# design matrix\n",
    "X = np.concatenate( [np.ones([N,1]),np.array([np.arange(0,N)]).T],axis=1)\n",
    "# fit the model\n",
    "b = np.linalg.solve(X.T@X,X.T@data)\n",
    "\n",
    "# compute the model-predicted values\n",
    "yHat = X@b\n",
    "\n",
    "# plot data and model prediction\n",
    "plt.plot(np.arange(1,N+1),data,'bs-',label='Data')\n",
    "plt.plot(np.arange(1,N+1),yHat,'ro--',label='Model pred.')\n",
    "\n",
    "plt.legend()\n",
    "plt.show()"
   ]
  },
  {
   "cell_type": "code",
   "execution_count": null,
   "metadata": {},
   "outputs": [],
   "source": [
    "## now with nonlinearity in the design matrix\n",
    "\n",
    "# design matrix\n",
    "X = np.concatenate( [np.ones([N,1]),np.array([np.arange(0,N)**2]).T],axis=1)\n",
    "# fit the model\n",
    "b = np.linalg.solve(X.T@X,X.T@data)\n",
    "\n",
    "# compute the model-predicted values\n",
    "yHat = X@b\n",
    "\n",
    "# plot data and model prediction\n",
    "plt.plot(np.arange(1,N+1),data,'bs-',label='Data')\n",
    "plt.plot(np.arange(1,N+1),yHat,'ro--',label='Model pred.')\n",
    "\n",
    "plt.legend()\n",
    "plt.show()"
   ]
  },
  {
   "cell_type": "markdown",
   "metadata": {},
   "source": [
    "1. generate random data (matrix X and vector y)\n",
    "2. solve for beta using QR decomposition\n",
    "3. compute the QR result against the standard left inverse"
   ]
  },
  {
   "cell_type": "code",
   "execution_count": null,
   "metadata": {},
   "outputs": [],
   "source": [
    "m=10\n",
    "n=6\n",
    "X=np.random.randn(m,n)\n",
    "y=np.random.randn(m,1)\n",
    "beta1=(np.linalg.solve(X.T@X,X.T@y))\n",
    "Q,R=np.linalg.qr(X)\n",
    "beta2=np.linalg.solve(R.T@R,(Q@R).T@y)\n",
    "print(beta1,'\\n')\n",
    "print(beta2)"
   ]
  },
  {
   "cell_type": "code",
   "execution_count": null,
   "metadata": {},
   "outputs": [],
   "source": [
    "#crete a random full rank matrix of integers\n",
    "m=3\n",
    "n=3\n",
    "A=np.random.randint(0,10,(m,n))\n",
    "eig=np.linalg.eigvals(A)\n",
    "print(eig)"
   ]
  },
  {
   "attachments": {},
   "cell_type": "markdown",
   "metadata": {},
   "source": [
    "code challenge 131\n",
    "1. create a 2X2 matrix and get the eigenvalues\n",
    "2. do the following steps for NXN matrix\n",
    "3. do the following steps for lower and upper matrix"
   ]
  },
  {
   "cell_type": "code",
   "execution_count": null,
   "metadata": {},
   "outputs": [],
   "source": [
    "#crete a diagonal matrix\n",
    "m=5\n",
    "n=2\n",
    "A=np.diag([2,1])\n",
    "print(\"print A:\" ,A)\n",
    "eigA=np.linalg.eigvals(A)\n",
    "print(\"print eigA: \",eigA)\n",
    "b=np.random.randint(0,10,size=(m))\n",
    "print(\"prtint b: \",b)\n",
    "B=np.diag(b)\n",
    "print(\"print B\",B)\n",
    "eigB=np.linalg.eigvals(B)\n",
    "print(\"print eigB: \",eigB)\n",
    "triAu=np.triu(b)\n",
    "triAl=np.tril(b)\n",
    "print(\"print triU: \\n\",triAu)\n",
    "print(\"print triL: \\n\",triAl)"
   ]
  },
  {
   "attachments": {},
   "cell_type": "markdown",
   "metadata": {},
   "source": [
    "code challenge 132\n",
    "1. generate a large matrix of 40X40 extrct the eigenvalues and plot\n",
    "2. reapte this a lot og time and plot the eigenvalues in the same plot"
   ]
  },
  {
   "cell_type": "code",
   "execution_count": null,
   "metadata": {},
   "outputs": [],
   "source": [
    "n=40\n",
    "res=[]\n",
    "for i in range(n):\n",
    "    A=np.random.randint(1,100,(n,n))\n",
    "    eigA=np.linalg.eigvals(A)\n",
    "    plt.plot(eigA)\n",
    "#plot the eigenvalues\n"
   ]
  },
  {
   "cell_type": "code",
   "execution_count": null,
   "metadata": {},
   "outputs": [],
   "source": [
    "m=2\n",
    "n=4\n",
    "E=np.random.randn(n,n)\n",
    "Q,R=np.linalg.eig(E)\n",
    "\n",
    "D=np.array([[3,1],[4,6]])\n",
    "eigD=np.linalg.eig(D)\n",
    "# print(eigD)\n",
    "A=np.array([[1,2,3],[4,3,7],[3,3,6]])\n",
    "eigA=np.linalg.eig(A)\n",
    "for i in eigA[0]:\n",
    "    print(round(i))"
   ]
  },
  {
   "cell_type": "code",
   "execution_count": null,
   "metadata": {},
   "outputs": [],
   "source": [
    "A=np.random.randint(1,10,(n,n))\n",
    "# print(np.dot(A,A.T))\n",
    "# print(A@A.T)\n",
    "eigA=np.linalg.eig(A)\n",
    "# print(eigA[0])\n",
    "# print(eigA[1])\n",
    "# print(A)\n",
    "# print(A@A@A@A)\n",
    "C=np.array([[-2,2,-3],[-4,1,-6],[-1,-2,0]])\n",
    "C=np.random.randn(2,2)\n",
    "mulC=np.linalg.matrix_power(C,2)\n",
    "print(mulC)"
   ]
  },
  {
   "cell_type": "code",
   "execution_count": null,
   "metadata": {},
   "outputs": [],
   "source": [
    "n=5\n",
    "m=3\n",
    "A=np.random.randint(1,10,(n,m))\n",
    "B=np.random.randint(1,10,(n,m))\n",
    "A=A.T@A\n",
    "B=B.T@B\n",
    "eigA=np.linalg.eig(A-B)\n",
    "eigB=np.linalg.eig(A@A-A@B-B@A+B@B)\n",
    "print(np.round(eigA[0]**2,3))\n",
    "print(np.round(eigB[0],3))\n",
    "\n"
   ]
  },
  {
   "attachments": {},
   "cell_type": "markdown",
   "metadata": {},
   "source": [
    "code challenge 142:\n",
    "1. create a 5x5 random matrix\n",
    "2. make it symmetric\n",
    "3. get the eigenvalues and the eigenvectors\n",
    "4. convert to column vector the eigenvector\n",
    "5. get the outer product of the eigenvector\n",
    "6. "
   ]
  },
  {
   "cell_type": "code",
   "execution_count": 66,
   "metadata": {},
   "outputs": [
    {
     "name": "stdout",
     "output_type": "stream",
     "text": [
      "[[3 3 8 6 1]\n",
      " [1 2 6 7 8]\n",
      " [7 7 3 5 2]\n",
      " [6 3 4 2 9]\n",
      " [7 1 5 6 6]]\n",
      "[[ 6  4 15 12  8]\n",
      " [ 4  4 13 10  9]\n",
      " [15 13  6  9  7]\n",
      " [12 10  9  4 15]\n",
      " [ 8  9  7 15 12]]\n",
      "[[ 0.43192956  0.41348522  0.58779103  0.54481921 -0.01185544]\n",
      " [ 0.38482917  0.0465441  -0.76740763  0.48397247 -0.16308384]\n",
      " [ 0.45974591  0.53113189 -0.17803572 -0.56698145  0.39162217]\n",
      " [ 0.46923567 -0.21007699  0.14194397 -0.38213273 -0.75466021]\n",
      " [ 0.48352347 -0.70755225  0.11722809  0.03806944  0.50038301]]\n"
     ]
    },
    {
     "data": {
      "text/plain": [
       "1.0000000000000002"
      ]
     },
     "execution_count": 66,
     "metadata": {},
     "output_type": "execute_result"
    }
   ],
   "source": [
    "n=5\n",
    "A=np.random.randint(1,10,(n,n))\n",
    "print(A)\n",
    "A=A.T+A\n",
    "print(A)\n",
    "eigA=np.linalg.eig(A)\n",
    "V=(eigA[1])\n",
    "print(V)\n",
    "v=V[:,0]\n",
    "v=v.reshape(n,1)\n",
    "v\n",
    "outer=np.outer(v,v)\n",
    "norm=np.linalg.norm(outer)\n",
    "norm\n"
   ]
  },
  {
   "cell_type": "code",
   "execution_count": 32,
   "metadata": {},
   "outputs": [
    {
     "name": "stdout",
     "output_type": "stream",
     "text": [
      "[[3 6 7 6 7]\n",
      " [7 1 3 5 1]\n",
      " [5 6 5 9 7]\n",
      " [9 3 9 7 9]\n",
      " [2 8 2 2 9]]\n",
      "5348.000000000002\n",
      "[27.51857342+0.j         -3.3549758 +2.39646448j -3.3549758 -2.39646448j\n",
      "  2.09568909+2.65342703j  2.09568909-2.65342703j]\n",
      "25 (25.000000000000036+0j)\n"
     ]
    }
   ],
   "source": [
    "def generate_singular_matrix(n=2):\n",
    "    res=[]\n",
    "    for i in range(n):\n",
    "        res.append(np.random.randint(1,10,(1,n)))\n",
    "    res[1]=res[0]*randint(1,10)\n",
    "    return np.concatenate(res,axis=0)\n",
    "\n",
    "E=generate_singular_matrix(randint(2,10 ))\n",
    "print(E)\n",
    "detE=np.linalg.det(E)\n",
    "print(detE)\n",
    "eigE=np.linalg.eig(E)\n",
    "print(eigE[0])\n",
    "tr=np.trace(E)\n",
    "tr\n",
    "sum_eigval=np.sum(eigE[0])\n",
    "print(tr,sum_eigval)\n"
   ]
  }
 ],
 "metadata": {
  "kernelspec": {
   "display_name": "base",
   "language": "python",
   "name": "python3"
  },
  "language_info": {
   "codemirror_mode": {
    "name": "ipython",
    "version": 3
   },
   "file_extension": ".py",
   "mimetype": "text/x-python",
   "name": "python",
   "nbconvert_exporter": "python",
   "pygments_lexer": "ipython3",
   "version": "3.9.13"
  },
  "orig_nbformat": 4,
  "vscode": {
   "interpreter": {
    "hash": "3d5db532c048f37cc8487068e8e1c41ac5ce63d1b52e8a8c32ff882c22c4c18a"
   }
  }
 },
 "nbformat": 4,
 "nbformat_minor": 2
}
