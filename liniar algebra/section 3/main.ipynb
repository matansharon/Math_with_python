{
 "cells": [
  {
   "cell_type": "code",
   "execution_count": 2,
   "metadata": {},
   "outputs": [],
   "source": [
    "import numpy as np\n",
    "import matplotlib.pyplot as plt\n",
    "import pandas as pd\n",
    "import sympy as sp\n",
    "from random import randint"
   ]
  },
  {
   "attachments": {},
   "cell_type": "markdown",
   "metadata": {},
   "source": [
    "coding challenge at lecture 12:\n",
    "1.create 2 4x6 matrics of random numbers\n",
    "2. use a for loop to compute thr dot products between corrsponding columns"
   ]
  },
  {
   "cell_type": "code",
   "execution_count": null,
   "metadata": {},
   "outputs": [],
   "source": [
    "n=4\n",
    "m=6\n",
    "#create a 4 on 6 matrix\n",
    "a=np.random.rand(n,m)   \n",
    "b=np.random.rand(n,m)\n",
    "print(a)\n",
    "print(a[:,0])\n",
    "#create an empty matrix\n",
    "c=np.zeros(6)\n",
    "for i in range(m):\n",
    "    c[i]=np.dot(a[:,i],b[:,i])\n",
    "c\n",
    "    "
   ]
  },
  {
   "cell_type": "markdown",
   "metadata": {},
   "source": [
    "1. generate 2 100-elemnts row vector. compute a with b and then b with a.\n",
    "2. generate 2 2-elemnts integer row vector. compute a with b and then b with"
   ]
  },
  {
   "cell_type": "code",
   "execution_count": null,
   "metadata": {},
   "outputs": [],
   "source": [
    "#generate a 100 element vector\n",
    "x=np.random.randn(100)\n",
    "y=np.random.randn(100)\n",
    "#write the for loop in one line\n",
    "# x=np.array([x[i]*100 for i in range(100)])\n",
    "# b=np.array([b[i]*100 for i in range(100)])\n",
    "plt.plot(x,'o')\n",
    "plt.plot(y,'x')\n",
    "plt.plot(np.dot(x,y),'v')"
   ]
  },
  {
   "cell_type": "code",
   "execution_count": null,
   "metadata": {},
   "outputs": [],
   "source": [
    "v1=np.array([2,4,-3])\n",
    "v2=np.array([0,-3,-3])\n",
    "ang=np.arccos(np.dot(v1,v2)/(np.linalg.norm(v1)*np.linalg.norm(v2)))\n",
    "\n",
    "#draw them\n",
    "fig=plt.figure()\n",
    "ax=fig.gca(projection='3d')\n",
    "ax.plot([0,v1[0]],[0,v1[1]],[0,v1[2]],'r')\n",
    "ax.plot([0,v2[0]],[0,v2[1]],[0,v2[2]],'b')\n",
    "ax.plot([0,v1[0]+v2[0]],[0,v1[1]+v2[1]],[0,v1[2]+v2[2]],'g')\n",
    "ax.set_xlabel('x')\n",
    "ax.set_ylabel('y')\n",
    "ax.set_zlabel('z')\n",
    "ax.set_xlim(-6,6)\n",
    "ax.set_ylim(-6,6)\n",
    "ax.set_zlim(-6,6)\n",
    "plt.show()\n"
   ]
  },
  {
   "cell_type": "markdown",
   "metadata": {},
   "source": [
    "code chalenge lecture 16"
   ]
  },
  {
   "cell_type": "code",
   "execution_count": null,
   "metadata": {},
   "outputs": [],
   "source": [
    "#proof the cauchy schwarz inequality\n",
    "a=np.random.rand(100)\n",
    "b=np.random.rand(100)\n",
    "for i in range(100):\n",
    "    a[i]*=100\n",
    "np.abs(np.dot(a,b))\n",
    "\n"
   ]
  },
  {
   "cell_type": "code",
   "execution_count": null,
   "metadata": {},
   "outputs": [],
   "source": [
    "#obtuse angle\n",
    "a=[1,-2]\n",
    "b=[2,3]\n",
    "c=[0,2]\n",
    "#calculate the angle between a and b and a and c and b and c and show the result in degrees\n",
    "ang1=np.arccos(np.dot(a,b)/(np.linalg.norm(a)*np.linalg.norm(b)))*180/np.pi\n",
    "ang2=np.arccos(np.dot(a,c)/(np.linalg.norm(a)*np.linalg.norm(c)))*180/np.pi\n",
    "ang3=np.arccos(np.dot(b,c)/(np.linalg.norm(b)*np.linalg.norm(c)))*180/np.pi\n",
    "print(ang1,ang2,ang3)"
   ]
  },
  {
   "cell_type": "markdown",
   "metadata": {},
   "source": [
    "1. create 2 random (R4) vectors\n",
    "2. comput the length of each vector and the magnitude of their dot product\n",
    "3. compute the unit vector of each vector \n",
    "4. compute the magnitude of each vector dot product"
   ]
  },
  {
   "cell_type": "code",
   "execution_count": null,
   "metadata": {},
   "outputs": [],
   "source": [
    "n=4\n",
    "v1=50*(np.random.rand(n))\n",
    "v2=50*(np.random.rand(n))\n",
    "print(v1,v2)\n",
    "#cunoute the length of v1 and v2\n",
    "v1L=np.dot(v1,v1)**0.5\n",
    "v2L=np.dot(v2,v2)**0.5\n",
    "v1v2m=np.dot(v1L,v2L)\n",
    "\n",
    "print(v1L,v2L,v1v2m)\n",
    "v1mu=1/v1L\n",
    "v2mu=1/v2L\n",
    "print(v1mu,v2mu)\n",
    "print(v1mu*v1L,v2mu*v2L)"
   ]
  },
  {
   "cell_type": "code",
   "execution_count": null,
   "metadata": {},
   "outputs": [],
   "source": [
    "arrays=[]\n",
    "for i in range(5):\n",
    "    a=randint(1,10)\n",
    "    b=randint(1,10)\n",
    "    if a>b:\n",
    "        temp=a\n",
    "        a=b\n",
    "        b=temp\n",
    "    m=np.random.randint(10,20,size=(a,b))\n",
    "    arrays.append(m)\n"
   ]
  },
  {
   "cell_type": "code",
   "execution_count": null,
   "metadata": {},
   "outputs": [],
   "source": [
    "r={}\n",
    "#find all the matrices with the same size\n",
    "for i in range(len(arrays)):\n",
    "    for j in range(i+1,len(arrays)):\n",
    "        if arrays[i].shape==arrays[j].shape:\n",
    "            r[i,j]=arrays[i]\n",
    "print(arrays[0],arrays[0]*2)\n",
    "    \n"
   ]
  },
  {
   "cell_type": "markdown",
   "metadata": {},
   "source": [
    "code challenge lecture 35\n",
    "1.test for some MxN matricies whether s(A+B)== sA +sB "
   ]
  },
  {
   "cell_type": "code",
   "execution_count": null,
   "metadata": {},
   "outputs": [],
   "source": [
    "A=np.random.randn(4,3)\n",
    "B=np.random.randn(4,3)\n",
    "c=int(np.random.randn()*100)\n",
    "res1=c*(A+B)\n",
    "res2=c*A+c*B\n",
    "print(A)\n",
    "print('-------')\n",
    "print(A)"
   ]
  },
  {
   "attachments": {},
   "cell_type": "markdown",
   "metadata": {},
   "source": [
    "code challenge 39\n",
    "1. determine whether the trace of tr(A) +tr(B) is equal to the trace of tr(A+B)\n",
    "2. generate random scalar a and determine the relationship of tr(a*A) and tr(a*B)"
   ]
  },
  {
   "cell_type": "code",
   "execution_count": null,
   "metadata": {},
   "outputs": [],
   "source": [
    "m=randint(0,10)\n",
    "n=randint(0,10)\n",
    "print(m,n)\n",
    "A=np.random.randn(6,3)\n",
    "B=np.random.randn(3,4)\n",
    "a=randint(1,10)\n",
    "# trA=np.trace(A)\n",
    "# trB=np.trace(B)\n",
    "# trAB=np.trace(A+B)\n",
    "# print(trA,trB,trA+trB,trAB)\n",
    "# traA=np.trace(a*A)\n",
    "\n",
    "# print(traA,a*trA)\n",
    "\n",
    "print(A)\n",
    "print('-------')\n",
    "print(B)\n",
    "print('-------')\n",
    "mul=np.matmul(A,B)\n",
    "\n",
    "print(mul,mul.shape)"
   ]
  },
  {
   "attachments": {},
   "cell_type": "markdown",
   "metadata": {},
   "source": [
    "code challenge 43:\n",
    "1. generate 2 matrices A and B\n",
    "2. build the product matrix layer-wise (for loop)\n",
    "3. implement the matrix multiplication directly\n",
    "4. compute the results"
   ]
  },
  {
   "cell_type": "code",
   "execution_count": 33,
   "metadata": {},
   "outputs": [
    {
     "name": "stdout",
     "output_type": "stream",
     "text": [
      "[[False  True False  True]\n",
      " [False  True False False]\n",
      " [False  True  True False]\n",
      " [ True False  True  True]]\n"
     ]
    }
   ],
   "source": [
    "m=randint(1,10)\n",
    "n=randint(1,10)\n",
    "A=np.random.randn(m,n)\n",
    "B=np.random.randn(n,m)\n",
    "#build the product matrix layer-wise (for loop)\n",
    "C=np.zeros((m,m))\n",
    "for i in range(n):\n",
    "    C+=np.outer(A[:,i],B[i,:])\n",
    "D=A@B\n",
    "print(C==D)"
   ]
  }
 ],
 "metadata": {
  "kernelspec": {
   "display_name": "base",
   "language": "python",
   "name": "python3"
  },
  "language_info": {
   "codemirror_mode": {
    "name": "ipython",
    "version": 3
   },
   "file_extension": ".py",
   "mimetype": "text/x-python",
   "name": "python",
   "nbconvert_exporter": "python",
   "pygments_lexer": "ipython3",
   "version": "3.9.13"
  },
  "orig_nbformat": 4,
  "vscode": {
   "interpreter": {
    "hash": "3f5489b7472e0db5a0aca474269aa1efb9aed33b7cc21a8c650b51c14ef83b94"
   }
  }
 },
 "nbformat": 4,
 "nbformat_minor": 2
}
