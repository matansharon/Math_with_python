{
 "cells": [
  {
   "cell_type": "code",
   "execution_count": 2,
   "metadata": {},
   "outputs": [],
   "source": [
    "import numpy as np\n",
    "import matplotlib.pyplot as plt\n",
    "import pandas as pd\n",
    "import sympy as sp"
   ]
  },
  {
   "attachments": {},
   "cell_type": "markdown",
   "metadata": {},
   "source": [
    "coding challenge at lecture 12:\n",
    "1.create 2 4x6 matrics of random numbers\n",
    "2. use a for loop to compute thr dot products between corrsponding columns"
   ]
  },
  {
   "cell_type": "code",
   "execution_count": 15,
   "metadata": {},
   "outputs": [
    {
     "name": "stdout",
     "output_type": "stream",
     "text": [
      "[[0.47967995 0.65406672 0.92311199 0.72641563 0.18141983 0.47936796]\n",
      " [0.37773704 0.1314351  0.99728832 0.51182526 0.43463839 0.12971525]\n",
      " [0.07552214 0.94605872 0.33703923 0.33709415 0.98103304 0.92603893]\n",
      " [0.84312165 0.2842116  0.68785814 0.28120773 0.11942502 0.25147343]]\n",
      "[0.47967995 0.37773704 0.07552214 0.84312165]\n"
     ]
    },
    {
     "data": {
      "text/plain": [
       "array([0.75136048, 1.01740764, 2.04619602, 1.10125069, 0.542287  ,\n",
       "       1.0410748 ])"
      ]
     },
     "execution_count": 15,
     "metadata": {},
     "output_type": "execute_result"
    }
   ],
   "source": [
    "n=4\n",
    "m=6\n",
    "#create a 4 on 6 matrix\n",
    "a=np.random.rand(n,m)   \n",
    "b=np.random.rand(n,m)\n",
    "print(a)\n",
    "print(a[:,0])\n",
    "#create an empty matrix\n",
    "c=np.zeros(6)\n",
    "for i in range(m):\n",
    "    c[i]=np.dot(a[:,i],b[:,i])\n",
    "c\n",
    "    "
   ]
  },
  {
   "cell_type": "markdown",
   "metadata": {},
   "source": [
    "1. generate 2 100-elemnts row vector. compute a with b and then b with a.\n",
    "2. generate 2 2-elemnts integer row vector. compute a with b and then b with"
   ]
  },
  {
   "cell_type": "code",
   "execution_count": 46,
   "metadata": {},
   "outputs": [
    {
     "data": {
      "text/plain": [
       "[<matplotlib.lines.Line2D at 0x7fb532445df0>]"
      ]
     },
     "execution_count": 46,
     "metadata": {},
     "output_type": "execute_result"
    },
    {
     "data": {
      "image/png": "[encoded data removed]",
      "text/plain": [
       "<Figure size 432x288 with 1 Axes>"
      ]
     },
     "metadata": {
      "needs_background": "light"
     },
     "output_type": "display_data"
    }
   ],
   "source": [
    "#generate a 100 element vector\n",
    "x=np.random.randn(100)\n",
    "y=np.random.randn(100)\n",
    "#write the for loop in one line\n",
    "# x=np.array([x[i]*100 for i in range(100)])\n",
    "# b=np.array([b[i]*100 for i in range(100)])\n",
    "plt.plot(x,'o')\n",
    "plt.plot(y,'x')\n",
    "plt.plot(np.dot(x,y),'v')"
   ]
  }
 ],
 "metadata": {
  "kernelspec": {
   "display_name": "Python 3.9.12 ('base')",
   "language": "python",
   "name": "python3"
  },
  "language_info": {
   "codemirror_mode": {
    "name": "ipython",
    "version": 3
   },
   "file_extension": ".py",
   "mimetype": "text/x-python",
   "name": "python",
   "nbconvert_exporter": "python",
   "pygments_lexer": "ipython3",
   "version": "3.9.12"
  },
  "orig_nbformat": 4,
  "vscode": {
   "interpreter": {
    "hash": "3d5db532c048f37cc8487068e8e1c41ac5ce63d1b52e8a8c32ff882c22c4c18a"
   }
  }
 },
 "nbformat": 4,
 "nbformat_minor": 2
}
